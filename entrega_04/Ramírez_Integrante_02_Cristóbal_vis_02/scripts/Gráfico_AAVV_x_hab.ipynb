{
  "nbformat": 4,
  "nbformat_minor": 0,
  "metadata": {
    "colab": {
      "provenance": []
    },
    "kernelspec": {
      "name": "python3",
      "display_name": "Python 3"
    },
    "language_info": {
      "name": "python"
    }
  },
  "cells": [
    {
      "cell_type": "code",
      "execution_count": null,
      "metadata": {
        "colab": {
          "base_uri": "https://localhost:8080/"
        },
        "id": "KBsUcHMmt-kM",
        "outputId": "67e5b061-affd-4fa2-9989-f6546990b1e8"
      },
      "outputs": [
        {
          "output_type": "stream",
          "name": "stdout",
          "text": [
            "Requirement already satisfied: altair in /usr/local/lib/python3.10/dist-packages (4.2.2)\n",
            "Requirement already satisfied: entrypoints in /usr/local/lib/python3.10/dist-packages (from altair) (0.4)\n",
            "Requirement already satisfied: jinja2 in /usr/local/lib/python3.10/dist-packages (from altair) (3.1.4)\n",
            "Requirement already satisfied: jsonschema>=3.0 in /usr/local/lib/python3.10/dist-packages (from altair) (4.23.0)\n",
            "Requirement already satisfied: numpy in /usr/local/lib/python3.10/dist-packages (from altair) (1.26.4)\n",
            "Requirement already satisfied: pandas>=0.18 in /usr/local/lib/python3.10/dist-packages (from altair) (2.2.2)\n",
            "Requirement already satisfied: toolz in /usr/local/lib/python3.10/dist-packages (from altair) (0.12.1)\n",
            "Requirement already satisfied: attrs>=22.2.0 in /usr/local/lib/python3.10/dist-packages (from jsonschema>=3.0->altair) (24.2.0)\n",
            "Requirement already satisfied: jsonschema-specifications>=2023.03.6 in /usr/local/lib/python3.10/dist-packages (from jsonschema>=3.0->altair) (2024.10.1)\n",
            "Requirement already satisfied: referencing>=0.28.4 in /usr/local/lib/python3.10/dist-packages (from jsonschema>=3.0->altair) (0.35.1)\n",
            "Requirement already satisfied: rpds-py>=0.7.1 in /usr/local/lib/python3.10/dist-packages (from jsonschema>=3.0->altair) (0.21.0)\n",
            "Requirement already satisfied: python-dateutil>=2.8.2 in /usr/local/lib/python3.10/dist-packages (from pandas>=0.18->altair) (2.8.2)\n",
            "Requirement already satisfied: pytz>=2020.1 in /usr/local/lib/python3.10/dist-packages (from pandas>=0.18->altair) (2024.2)\n",
            "Requirement already satisfied: tzdata>=2022.7 in /usr/local/lib/python3.10/dist-packages (from pandas>=0.18->altair) (2024.2)\n",
            "Requirement already satisfied: MarkupSafe>=2.0 in /usr/local/lib/python3.10/dist-packages (from jinja2->altair) (3.0.2)\n",
            "Requirement already satisfied: six>=1.5 in /usr/local/lib/python3.10/dist-packages (from python-dateutil>=2.8.2->pandas>=0.18->altair) (1.16.0)\n"
          ]
        }
      ],
      "source": [
        "pip install altair\n",
        "\n"
      ]
    },
    {
      "cell_type": "markdown",
      "source": [
        "Crear el gráfico"
      ],
      "metadata": {
        "id": "BfqR7lVY2x7T"
      }
    },
    {
      "cell_type": "markdown",
      "source": [],
      "metadata": {
        "id": "bLzeFivo4Mnw"
      }
    },
    {
      "cell_type": "code",
      "source": [
        "import pandas as pd\n",
        "import altair as alt\n",
        "\n",
        "data = {\n",
        "    'comunas': [\n",
        "        'BUIN', 'CALERA DE TANGO', 'CERRILLOS', 'CERRO NAVIA', 'COLINA',\n",
        "        'CONCHALÍ', 'EL BOSQUE', 'EL MONTE', 'ESTACIÓN CENTRAL', 'HUECHURABA',\n",
        "        'INDEPENDENCIA', 'ISLA DE MAIPO', 'LA CISTERNA', 'LA FLORIDA', 'LA GRANJA',\n",
        "        'LA PINTANA', 'LA REINA', 'LAMPA', 'LAS CONDES', 'LO BARNECHEA',\n",
        "        'LO ESPEJO', 'LO PRADO', 'MACUL', 'MAIPÚ', 'MELIPILLA', 'ÑUÑOA',\n",
        "        'PADRE HURTADO', 'PAINE', 'PEDRO AGUIRRE CERDA', 'PEÑAFLOR', 'PEÑALOLÉN',\n",
        "        'PIRQUE', 'PROVIDENCIA', 'PUDAHUEL', 'PUENTE ALTO', 'QUILICURA',\n",
        "        'QUINTA NORMAL', 'RECOLETA', 'RENCA', 'SAN BERNARDO', 'SAN JOAQUÍN',\n",
        "        'SAN JOSÉ DE MAIPO', 'SAN MIGUEL', 'SAN RAMÓN', 'SANTIAGO', 'TALAGANTE',\n",
        "        'TILTIL', 'VITACURA'\n",
        "    ],\n",
        "    'sup AAVV m2': [\n",
        "        603984.88, 29946.03, 1176964.65, 798786.64, 1115239.62,\n",
        "        417529.30, 329261.04, 1066194.41, 533763.86, 1061523.43,\n",
        "        155440.97, 72272.67, 160366.50, 1375949.93, 848111.12,\n",
        "        611122.67, 1296980.73, 555319.97, 1375949.93, 1567804.34,\n",
        "        430503.44, 306691.98, 480763.06, 2847701.93, 364751.95,\n",
        "        508452.16, 393787.75, 173383.58, 530088.27, 393977.81,\n",
        "        1367424.45, 27703.81, 2121068.62, 1048199.86, 2492680.23,\n",
        "        847521.69, 398697.29, 2927155.99, 680053.57, 1202249.04,\n",
        "        462653.80, 43960.58, 212503.55, 382752.87, 1868007.66,\n",
        "        409053.02, 78790.45, 1592903.19\n",
        "    ],\n",
        "    'AAVV x hab': [\n",
        "        7.34, 2.61, 14.58, 6.03, 9.46, 3.3, 2.03, 3.63, 3.79, 10.78,\n",
        "        1.55, 2.69, 1.78, 3.76, 7.29, 3.47, 13.99, 6.88, 4.87, 15.21,\n",
        "        4.36, 3.2, 4.14, 5.5, 4.33, 2.44, 7.17, 3.74, 5.25, 4.75,\n",
        "        5.66, 2.41, 14.94, 4.71, 4.41, 4.03, 3.63, 18.58, 4.58, 4.07,\n",
        "        4.9, 3.96, 1.97, 4.63, 4.64, 6.94, 6.03, 18.67\n",
        "    ]\n",
        "}\n",
        "\n",
        "df = pd.DataFrame(data)\n",
        "\n",
        "\n",
        "chart = alt.Chart(df).mark_bar(color='darkgreen').encode(\n",
        "    x=alt.X('AAVV x hab:Q', title='AAVV por Habitante (m²)'),\n",
        "    y=alt.Y('comunas:N', sort='-x', title='Comunas'),\n",
        "    tooltip=[\n",
        "        alt.Tooltip('comunas:N', title='Comuna'),\n",
        "        alt.Tooltip('AAVV x hab:Q', title='AAVV por habitante (m²)', format='.2f'),\n",
        "        alt.Tooltip('sup AAVV m2:Q', title='Superficie AAVV (m²)', format=',')\n",
        "    ]\n",
        ").properties(\n",
        "    title='Superficie de AAVV por Habitante en cada Comuna del Gran Santiago',\n",
        "    width=700,\n",
        "    height=600\n",
        ").configure_axis(\n",
        "    grid=False\n",
        ")\n",
        "\n",
        "\n",
        "chart"
      ],
      "metadata": {
        "colab": {
          "base_uri": "https://localhost:8080/",
          "height": 736
        },
        "id": "istx8SRR3x3P",
        "outputId": "dbe0dc2f-cdc4-4842-f81c-5f3824e20593"
      },
      "execution_count": null,
      "outputs": [
        {
          "output_type": "stream",
          "name": "stderr",
          "text": [
            "/usr/local/lib/python3.10/dist-packages/altair/utils/core.py:384: FutureWarning: the convert_dtype parameter is deprecated and will be removed in a future version.  Do ``ser.astype(object).apply()`` instead if you want ``convert_dtype=False``.\n",
            "  col = df[col_name].apply(to_list_if_array, convert_dtype=False)\n"
          ]
        },
        {
          "output_type": "execute_result",
          "data": {
            "text/html": [
              "\n",
              "<div id=\"altair-viz-4de6f3c45fe34851a1b7fb1afffb4af1\"></div>\n",
              "<script type=\"text/javascript\">\n",
              "  var VEGA_DEBUG = (typeof VEGA_DEBUG == \"undefined\") ? {} : VEGA_DEBUG;\n",
              "  (function(spec, embedOpt){\n",
              "    let outputDiv = document.currentScript.previousElementSibling;\n",
              "    if (outputDiv.id !== \"altair-viz-4de6f3c45fe34851a1b7fb1afffb4af1\") {\n",
              "      outputDiv = document.getElementById(\"altair-viz-4de6f3c45fe34851a1b7fb1afffb4af1\");\n",
              "    }\n",
              "    const paths = {\n",
              "      \"vega\": \"https://cdn.jsdelivr.net/npm//vega@5?noext\",\n",
              "      \"vega-lib\": \"https://cdn.jsdelivr.net/npm//vega-lib?noext\",\n",
              "      \"vega-lite\": \"https://cdn.jsdelivr.net/npm//vega-lite@4.17.0?noext\",\n",
              "      \"vega-embed\": \"https://cdn.jsdelivr.net/npm//vega-embed@6?noext\",\n",
              "    };\n",
              "\n",
              "    function maybeLoadScript(lib, version) {\n",
              "      var key = `${lib.replace(\"-\", \"\")}_version`;\n",
              "      return (VEGA_DEBUG[key] == version) ?\n",
              "        Promise.resolve(paths[lib]) :\n",
              "        new Promise(function(resolve, reject) {\n",
              "          var s = document.createElement('script');\n",
              "          document.getElementsByTagName(\"head\")[0].appendChild(s);\n",
              "          s.async = true;\n",
              "          s.onload = () => {\n",
              "            VEGA_DEBUG[key] = version;\n",
              "            return resolve(paths[lib]);\n",
              "          };\n",
              "          s.onerror = () => reject(`Error loading script: ${paths[lib]}`);\n",
              "          s.src = paths[lib];\n",
              "        });\n",
              "    }\n",
              "\n",
              "    function showError(err) {\n",
              "      outputDiv.innerHTML = `<div class=\"error\" style=\"color:red;\">${err}</div>`;\n",
              "      throw err;\n",
              "    }\n",
              "\n",
              "    function displayChart(vegaEmbed) {\n",
              "      vegaEmbed(outputDiv, spec, embedOpt)\n",
              "        .catch(err => showError(`Javascript Error: ${err.message}<br>This usually means there's a typo in your chart specification. See the javascript console for the full traceback.`));\n",
              "    }\n",
              "\n",
              "    if(typeof define === \"function\" && define.amd) {\n",
              "      requirejs.config({paths});\n",
              "      require([\"vega-embed\"], displayChart, err => showError(`Error loading script: ${err.message}`));\n",
              "    } else {\n",
              "      maybeLoadScript(\"vega\", \"5\")\n",
              "        .then(() => maybeLoadScript(\"vega-lite\", \"4.17.0\"))\n",
              "        .then(() => maybeLoadScript(\"vega-embed\", \"6\"))\n",
              "        .catch(showError)\n",
              "        .then(() => displayChart(vegaEmbed));\n",
              "    }\n",
              "  })({\"config\": {\"view\": {\"continuousWidth\": 400, \"continuousHeight\": 300}, \"axis\": {\"grid\": false}}, \"data\": {\"name\": \"data-ed0ae44347d724c60288b019d596c82e\"}, \"mark\": {\"type\": \"bar\", \"color\": \"darkgreen\"}, \"encoding\": {\"tooltip\": [{\"field\": \"comunas\", \"title\": \"Comuna\", \"type\": \"nominal\"}, {\"field\": \"AAVV x hab\", \"format\": \".2f\", \"title\": \"AAVV por habitante (m\\u00b2)\", \"type\": \"quantitative\"}, {\"field\": \"sup AAVV m2\", \"format\": \",\", \"title\": \"Superficie AAVV (m\\u00b2)\", \"type\": \"quantitative\"}], \"x\": {\"field\": \"AAVV x hab\", \"title\": \"AAVV por Habitante (m\\u00b2)\", \"type\": \"quantitative\"}, \"y\": {\"field\": \"comunas\", \"sort\": \"-x\", \"title\": \"Comunas\", \"type\": \"nominal\"}}, \"height\": 600, \"title\": \"Superficie de AAVV por Habitante en cada Comuna del Gran Santiago\", \"width\": 700, \"$schema\": \"https://vega.github.io/schema/vega-lite/v4.17.0.json\", \"datasets\": {\"data-ed0ae44347d724c60288b019d596c82e\": [{\"comunas\": \"BUIN\", \"sup AAVV m2\": 603984.88, \"AAVV x hab\": 7.34}, {\"comunas\": \"CALERA DE TANGO\", \"sup AAVV m2\": 29946.03, \"AAVV x hab\": 2.61}, {\"comunas\": \"CERRILLOS\", \"sup AAVV m2\": 1176964.65, \"AAVV x hab\": 14.58}, {\"comunas\": \"CERRO NAVIA\", \"sup AAVV m2\": 798786.64, \"AAVV x hab\": 6.03}, {\"comunas\": \"COLINA\", \"sup AAVV m2\": 1115239.62, \"AAVV x hab\": 9.46}, {\"comunas\": \"CONCHAL\\u00cd\", \"sup AAVV m2\": 417529.3, \"AAVV x hab\": 3.3}, {\"comunas\": \"EL BOSQUE\", \"sup AAVV m2\": 329261.04, \"AAVV x hab\": 2.03}, {\"comunas\": \"EL MONTE\", \"sup AAVV m2\": 1066194.41, \"AAVV x hab\": 3.63}, {\"comunas\": \"ESTACI\\u00d3N CENTRAL\", \"sup AAVV m2\": 533763.86, \"AAVV x hab\": 3.79}, {\"comunas\": \"HUECHURABA\", \"sup AAVV m2\": 1061523.43, \"AAVV x hab\": 10.78}, {\"comunas\": \"INDEPENDENCIA\", \"sup AAVV m2\": 155440.97, \"AAVV x hab\": 1.55}, {\"comunas\": \"ISLA DE MAIPO\", \"sup AAVV m2\": 72272.67, \"AAVV x hab\": 2.69}, {\"comunas\": \"LA CISTERNA\", \"sup AAVV m2\": 160366.5, \"AAVV x hab\": 1.78}, {\"comunas\": \"LA FLORIDA\", \"sup AAVV m2\": 1375949.93, \"AAVV x hab\": 3.76}, {\"comunas\": \"LA GRANJA\", \"sup AAVV m2\": 848111.12, \"AAVV x hab\": 7.29}, {\"comunas\": \"LA PINTANA\", \"sup AAVV m2\": 611122.67, \"AAVV x hab\": 3.47}, {\"comunas\": \"LA REINA\", \"sup AAVV m2\": 1296980.73, \"AAVV x hab\": 13.99}, {\"comunas\": \"LAMPA\", \"sup AAVV m2\": 555319.97, \"AAVV x hab\": 6.88}, {\"comunas\": \"LAS CONDES\", \"sup AAVV m2\": 1375949.93, \"AAVV x hab\": 4.87}, {\"comunas\": \"LO BARNECHEA\", \"sup AAVV m2\": 1567804.34, \"AAVV x hab\": 15.21}, {\"comunas\": \"LO ESPEJO\", \"sup AAVV m2\": 430503.44, \"AAVV x hab\": 4.36}, {\"comunas\": \"LO PRADO\", \"sup AAVV m2\": 306691.98, \"AAVV x hab\": 3.2}, {\"comunas\": \"MACUL\", \"sup AAVV m2\": 480763.06, \"AAVV x hab\": 4.14}, {\"comunas\": \"MAIP\\u00da\", \"sup AAVV m2\": 2847701.93, \"AAVV x hab\": 5.5}, {\"comunas\": \"MELIPILLA\", \"sup AAVV m2\": 364751.95, \"AAVV x hab\": 4.33}, {\"comunas\": \"\\u00d1U\\u00d1OA\", \"sup AAVV m2\": 508452.16, \"AAVV x hab\": 2.44}, {\"comunas\": \"PADRE HURTADO\", \"sup AAVV m2\": 393787.75, \"AAVV x hab\": 7.17}, {\"comunas\": \"PAINE\", \"sup AAVV m2\": 173383.58, \"AAVV x hab\": 3.74}, {\"comunas\": \"PEDRO AGUIRRE CERDA\", \"sup AAVV m2\": 530088.27, \"AAVV x hab\": 5.25}, {\"comunas\": \"PE\\u00d1AFLOR\", \"sup AAVV m2\": 393977.81, \"AAVV x hab\": 4.75}, {\"comunas\": \"PE\\u00d1ALOL\\u00c9N\", \"sup AAVV m2\": 1367424.45, \"AAVV x hab\": 5.66}, {\"comunas\": \"PIRQUE\", \"sup AAVV m2\": 27703.81, \"AAVV x hab\": 2.41}, {\"comunas\": \"PROVIDENCIA\", \"sup AAVV m2\": 2121068.62, \"AAVV x hab\": 14.94}, {\"comunas\": \"PUDAHUEL\", \"sup AAVV m2\": 1048199.86, \"AAVV x hab\": 4.71}, {\"comunas\": \"PUENTE ALTO\", \"sup AAVV m2\": 2492680.23, \"AAVV x hab\": 4.41}, {\"comunas\": \"QUILICURA\", \"sup AAVV m2\": 847521.69, \"AAVV x hab\": 4.03}, {\"comunas\": \"QUINTA NORMAL\", \"sup AAVV m2\": 398697.29, \"AAVV x hab\": 3.63}, {\"comunas\": \"RECOLETA\", \"sup AAVV m2\": 2927155.99, \"AAVV x hab\": 18.58}, {\"comunas\": \"RENCA\", \"sup AAVV m2\": 680053.57, \"AAVV x hab\": 4.58}, {\"comunas\": \"SAN BERNARDO\", \"sup AAVV m2\": 1202249.04, \"AAVV x hab\": 4.07}, {\"comunas\": \"SAN JOAQU\\u00cdN\", \"sup AAVV m2\": 462653.8, \"AAVV x hab\": 4.9}, {\"comunas\": \"SAN JOS\\u00c9 DE MAIPO\", \"sup AAVV m2\": 43960.58, \"AAVV x hab\": 3.96}, {\"comunas\": \"SAN MIGUEL\", \"sup AAVV m2\": 212503.55, \"AAVV x hab\": 1.97}, {\"comunas\": \"SAN RAM\\u00d3N\", \"sup AAVV m2\": 382752.87, \"AAVV x hab\": 4.63}, {\"comunas\": \"SANTIAGO\", \"sup AAVV m2\": 1868007.66, \"AAVV x hab\": 4.64}, {\"comunas\": \"TALAGANTE\", \"sup AAVV m2\": 409053.02, \"AAVV x hab\": 6.94}, {\"comunas\": \"TILTIL\", \"sup AAVV m2\": 78790.45, \"AAVV x hab\": 6.03}, {\"comunas\": \"VITACURA\", \"sup AAVV m2\": 1592903.19, \"AAVV x hab\": 18.67}]}}, {\"mode\": \"vega-lite\"});\n",
              "</script>"
            ],
            "text/plain": [
              "alt.Chart(...)"
            ]
          },
          "metadata": {},
          "execution_count": 52
        }
      ]
    }
  ]
}