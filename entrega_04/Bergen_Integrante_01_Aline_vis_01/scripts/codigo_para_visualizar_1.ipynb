{
  "nbformat": 4,
  "nbformat_minor": 0,
  "metadata": {
    "colab": {
      "provenance": [],
      "mount_file_id": "1KIWkD_HJviyqSUAuL8pWHAwXZffBS_3A",
      "authorship_tag": "ABX9TyOaVQD8OT8EbxeAK2XcFUb+",
      "include_colab_link": true
    },
    "kernelspec": {
      "name": "python3",
      "display_name": "Python 3"
    },
    "language_info": {
      "name": "python"
    }
  },
  "cells": [
    {
      "cell_type": "markdown",
      "metadata": {
        "id": "view-in-github",
        "colab_type": "text"
      },
      "source": [
        "<a href=\"https://colab.research.google.com/github/nani0609/proyecto-verde/blob/main/codigo_para_visualizar_1.ipynb\" target=\"_parent\"><img src=\"https://colab.research.google.com/assets/colab-badge.svg\" alt=\"Open In Colab\"/></a>"
      ]
    },
    {
      "cell_type": "markdown",
      "source": [
        "#Visualización Atómica"
      ],
      "metadata": {
        "id": "6WDtGXMmyOHb"
      }
    },
    {
      "cell_type": "markdown",
      "source": [
        "#### Instalación"
      ],
      "metadata": {
        "id": "QWsMjfx8yUvU"
      }
    },
    {
      "cell_type": "code",
      "execution_count": 81,
      "metadata": {
        "colab": {
          "base_uri": "https://localhost:8080/"
        },
        "id": "Ynz8VPVOyJFc",
        "outputId": "d17870b4-c898-4140-8816-be85c887030e"
      },
      "outputs": [
        {
          "output_type": "stream",
          "name": "stdout",
          "text": [
            "Requirement already satisfied: altair in /usr/local/lib/python3.10/dist-packages (4.2.2)\n",
            "Requirement already satisfied: entrypoints in /usr/local/lib/python3.10/dist-packages (from altair) (0.4)\n",
            "Requirement already satisfied: jinja2 in /usr/local/lib/python3.10/dist-packages (from altair) (3.1.4)\n",
            "Requirement already satisfied: jsonschema>=3.0 in /usr/local/lib/python3.10/dist-packages (from altair) (4.23.0)\n",
            "Requirement already satisfied: numpy in /usr/local/lib/python3.10/dist-packages (from altair) (1.26.4)\n",
            "Requirement already satisfied: pandas>=0.18 in /usr/local/lib/python3.10/dist-packages (from altair) (2.2.2)\n",
            "Requirement already satisfied: toolz in /usr/local/lib/python3.10/dist-packages (from altair) (0.12.1)\n",
            "Requirement already satisfied: attrs>=22.2.0 in /usr/local/lib/python3.10/dist-packages (from jsonschema>=3.0->altair) (24.2.0)\n",
            "Requirement already satisfied: jsonschema-specifications>=2023.03.6 in /usr/local/lib/python3.10/dist-packages (from jsonschema>=3.0->altair) (2024.10.1)\n",
            "Requirement already satisfied: referencing>=0.28.4 in /usr/local/lib/python3.10/dist-packages (from jsonschema>=3.0->altair) (0.35.1)\n",
            "Requirement already satisfied: rpds-py>=0.7.1 in /usr/local/lib/python3.10/dist-packages (from jsonschema>=3.0->altair) (0.21.0)\n",
            "Requirement already satisfied: python-dateutil>=2.8.2 in /usr/local/lib/python3.10/dist-packages (from pandas>=0.18->altair) (2.8.2)\n",
            "Requirement already satisfied: pytz>=2020.1 in /usr/local/lib/python3.10/dist-packages (from pandas>=0.18->altair) (2024.2)\n",
            "Requirement already satisfied: tzdata>=2022.7 in /usr/local/lib/python3.10/dist-packages (from pandas>=0.18->altair) (2024.2)\n",
            "Requirement already satisfied: MarkupSafe>=2.0 in /usr/local/lib/python3.10/dist-packages (from jinja2->altair) (3.0.2)\n",
            "Requirement already satisfied: six>=1.5 in /usr/local/lib/python3.10/dist-packages (from python-dateutil>=2.8.2->pandas>=0.18->altair) (1.16.0)\n"
          ]
        }
      ],
      "source": [
        "pip install altair"
      ]
    },
    {
      "cell_type": "code",
      "source": [
        "import warnings\n",
        "\n",
        "# Ignorar advertencias de tipo FutureWarning\n",
        "warnings.simplefilter(action='ignore', category=FutureWarning)"
      ],
      "metadata": {
        "id": "OQfaAreUTUfT"
      },
      "execution_count": 1,
      "outputs": []
    },
    {
      "cell_type": "code",
      "source": [
        "from IPython.core.display import HTML\n",
        "\n",
        "HTML('<link href=\"https://fonts.googleapis.com/css2?family=Lato:ital,wght@0,100;0,300;0,400;0,700;0,900;1,100;1,300;1,400;1,700;1,900&display=swap\" rel=\"stylesheet\">')\n",
        "paleta =['#5aa86e', '#477a73', '#77938b',  '#b4ada1' , '#395e41', '#b4a198', '#ac7063', '#ac4c3d']"
      ],
      "metadata": {
        "id": "b4q-KiOj3hiB"
      },
      "execution_count": 2,
      "outputs": []
    },
    {
      "cell_type": "markdown",
      "source": [
        "####Importar"
      ],
      "metadata": {
        "id": "X9Mj3Wemyhq2"
      }
    },
    {
      "cell_type": "code",
      "source": [
        "import altair as alt\n",
        "import pandas as pd\n",
        "from IPython.display import IFrame\n",
        "\n",
        "# Specify the encoding when reading the CSV file\n",
        "dn = pd.read_csv('/content/drive/MyDrive/AAVV X COMUNA.csv', encoding='latin-1')\n",
        "# or encoding='ISO-8859-1', or encoding='cp1252'\n",
        "# Experiment with these encodings if 'latin-1' doesn't work.\n",
        "\n",
        "# Mostrar las primeras filas del DataFrame\n",
        "dn.head()"
      ],
      "metadata": {
        "colab": {
          "base_uri": "https://localhost:8080/",
          "height": 276
        },
        "id": "08HKTfNsylA6",
        "outputId": "e41ac27d-f205-4aab-c216-79119c8208c3"
      },
      "execution_count": 3,
      "outputs": [
        {
          "output_type": "execute_result",
          "data": {
            "text/plain": [
              "            Comuna  Total cantidad personas x comuna proyeccin 2021  \\\n",
              "0             BUIN                                            111934   \n",
              "1  CALERA DE TANGO                                             29019   \n",
              "2        CERRILLOS                                             89520   \n",
              "3      CERRO NAVIA                                            142304   \n",
              "4           COLINA                                            185599   \n",
              "\n",
              "   Nios (0-15) x comuna proyeccin 2021  \\\n",
              "0                                  23953   \n",
              "1                                   5835   \n",
              "2                                  17299   \n",
              "3                                  26810   \n",
              "4                                  47279   \n",
              "\n",
              "   Cantidad de superficie comuna X m2 2021   superficie de AAVV  2018  \\\n",
              "0                                214000000                  603984.88   \n",
              "1                                 73300000                   29946.03   \n",
              "2                                 21000000                 1176964.65   \n",
              "3                                 11000000                  786372.48   \n",
              "4                                971200000                 1115239.62   \n",
              "\n",
              "   Superficie AAVVm2 por cantidad habitante (0-15 aos)  \n",
              "0                                          25.215417     \n",
              "1                                           5.132139     \n",
              "2                                          68.036571     \n",
              "3                                          29.331312     \n",
              "4                                          23.588477     "
            ],
            "text/html": [
              "\n",
              "  <div id=\"df-c6e9ae7a-8121-421a-bba7-a50803878a23\" class=\"colab-df-container\">\n",
              "    <div>\n",
              "<style scoped>\n",
              "    .dataframe tbody tr th:only-of-type {\n",
              "        vertical-align: middle;\n",
              "    }\n",
              "\n",
              "    .dataframe tbody tr th {\n",
              "        vertical-align: top;\n",
              "    }\n",
              "\n",
              "    .dataframe thead th {\n",
              "        text-align: right;\n",
              "    }\n",
              "</style>\n",
              "<table border=\"1\" class=\"dataframe\">\n",
              "  <thead>\n",
              "    <tr style=\"text-align: right;\">\n",
              "      <th></th>\n",
              "      <th>Comuna</th>\n",
              "      <th>Total cantidad personas x comuna proyeccin 2021</th>\n",
              "      <th>Nios (0-15) x comuna proyeccin 2021</th>\n",
              "      <th>Cantidad de superficie comuna X m2 2021</th>\n",
              "      <th>superficie de AAVV  2018</th>\n",
              "      <th>Superficie AAVVm2 por cantidad habitante (0-15 aos)</th>\n",
              "    </tr>\n",
              "  </thead>\n",
              "  <tbody>\n",
              "    <tr>\n",
              "      <th>0</th>\n",
              "      <td>BUIN</td>\n",
              "      <td>111934</td>\n",
              "      <td>23953</td>\n",
              "      <td>214000000</td>\n",
              "      <td>603984.88</td>\n",
              "      <td>25.215417</td>\n",
              "    </tr>\n",
              "    <tr>\n",
              "      <th>1</th>\n",
              "      <td>CALERA DE TANGO</td>\n",
              "      <td>29019</td>\n",
              "      <td>5835</td>\n",
              "      <td>73300000</td>\n",
              "      <td>29946.03</td>\n",
              "      <td>5.132139</td>\n",
              "    </tr>\n",
              "    <tr>\n",
              "      <th>2</th>\n",
              "      <td>CERRILLOS</td>\n",
              "      <td>89520</td>\n",
              "      <td>17299</td>\n",
              "      <td>21000000</td>\n",
              "      <td>1176964.65</td>\n",
              "      <td>68.036571</td>\n",
              "    </tr>\n",
              "    <tr>\n",
              "      <th>3</th>\n",
              "      <td>CERRO NAVIA</td>\n",
              "      <td>142304</td>\n",
              "      <td>26810</td>\n",
              "      <td>11000000</td>\n",
              "      <td>786372.48</td>\n",
              "      <td>29.331312</td>\n",
              "    </tr>\n",
              "    <tr>\n",
              "      <th>4</th>\n",
              "      <td>COLINA</td>\n",
              "      <td>185599</td>\n",
              "      <td>47279</td>\n",
              "      <td>971200000</td>\n",
              "      <td>1115239.62</td>\n",
              "      <td>23.588477</td>\n",
              "    </tr>\n",
              "  </tbody>\n",
              "</table>\n",
              "</div>\n",
              "    <div class=\"colab-df-buttons\">\n",
              "\n",
              "  <div class=\"colab-df-container\">\n",
              "    <button class=\"colab-df-convert\" onclick=\"convertToInteractive('df-c6e9ae7a-8121-421a-bba7-a50803878a23')\"\n",
              "            title=\"Convert this dataframe to an interactive table.\"\n",
              "            style=\"display:none;\">\n",
              "\n",
              "  <svg xmlns=\"http://www.w3.org/2000/svg\" height=\"24px\" viewBox=\"0 -960 960 960\">\n",
              "    <path d=\"M120-120v-720h720v720H120Zm60-500h600v-160H180v160Zm220 220h160v-160H400v160Zm0 220h160v-160H400v160ZM180-400h160v-160H180v160Zm440 0h160v-160H620v160ZM180-180h160v-160H180v160Zm440 0h160v-160H620v160Z\"/>\n",
              "  </svg>\n",
              "    </button>\n",
              "\n",
              "  <style>\n",
              "    .colab-df-container {\n",
              "      display:flex;\n",
              "      gap: 12px;\n",
              "    }\n",
              "\n",
              "    .colab-df-convert {\n",
              "      background-color: #E8F0FE;\n",
              "      border: none;\n",
              "      border-radius: 50%;\n",
              "      cursor: pointer;\n",
              "      display: none;\n",
              "      fill: #1967D2;\n",
              "      height: 32px;\n",
              "      padding: 0 0 0 0;\n",
              "      width: 32px;\n",
              "    }\n",
              "\n",
              "    .colab-df-convert:hover {\n",
              "      background-color: #E2EBFA;\n",
              "      box-shadow: 0px 1px 2px rgba(60, 64, 67, 0.3), 0px 1px 3px 1px rgba(60, 64, 67, 0.15);\n",
              "      fill: #174EA6;\n",
              "    }\n",
              "\n",
              "    .colab-df-buttons div {\n",
              "      margin-bottom: 4px;\n",
              "    }\n",
              "\n",
              "    [theme=dark] .colab-df-convert {\n",
              "      background-color: #3B4455;\n",
              "      fill: #D2E3FC;\n",
              "    }\n",
              "\n",
              "    [theme=dark] .colab-df-convert:hover {\n",
              "      background-color: #434B5C;\n",
              "      box-shadow: 0px 1px 3px 1px rgba(0, 0, 0, 0.15);\n",
              "      filter: drop-shadow(0px 1px 2px rgba(0, 0, 0, 0.3));\n",
              "      fill: #FFFFFF;\n",
              "    }\n",
              "  </style>\n",
              "\n",
              "    <script>\n",
              "      const buttonEl =\n",
              "        document.querySelector('#df-c6e9ae7a-8121-421a-bba7-a50803878a23 button.colab-df-convert');\n",
              "      buttonEl.style.display =\n",
              "        google.colab.kernel.accessAllowed ? 'block' : 'none';\n",
              "\n",
              "      async function convertToInteractive(key) {\n",
              "        const element = document.querySelector('#df-c6e9ae7a-8121-421a-bba7-a50803878a23');\n",
              "        const dataTable =\n",
              "          await google.colab.kernel.invokeFunction('convertToInteractive',\n",
              "                                                    [key], {});\n",
              "        if (!dataTable) return;\n",
              "\n",
              "        const docLinkHtml = 'Like what you see? Visit the ' +\n",
              "          '<a target=\"_blank\" href=https://colab.research.google.com/notebooks/data_table.ipynb>data table notebook</a>'\n",
              "          + ' to learn more about interactive tables.';\n",
              "        element.innerHTML = '';\n",
              "        dataTable['output_type'] = 'display_data';\n",
              "        await google.colab.output.renderOutput(dataTable, element);\n",
              "        const docLink = document.createElement('div');\n",
              "        docLink.innerHTML = docLinkHtml;\n",
              "        element.appendChild(docLink);\n",
              "      }\n",
              "    </script>\n",
              "  </div>\n",
              "\n",
              "\n",
              "<div id=\"df-626cf703-451c-465e-91fa-929fcfbb6a81\">\n",
              "  <button class=\"colab-df-quickchart\" onclick=\"quickchart('df-626cf703-451c-465e-91fa-929fcfbb6a81')\"\n",
              "            title=\"Suggest charts\"\n",
              "            style=\"display:none;\">\n",
              "\n",
              "<svg xmlns=\"http://www.w3.org/2000/svg\" height=\"24px\"viewBox=\"0 0 24 24\"\n",
              "     width=\"24px\">\n",
              "    <g>\n",
              "        <path d=\"M19 3H5c-1.1 0-2 .9-2 2v14c0 1.1.9 2 2 2h14c1.1 0 2-.9 2-2V5c0-1.1-.9-2-2-2zM9 17H7v-7h2v7zm4 0h-2V7h2v10zm4 0h-2v-4h2v4z\"/>\n",
              "    </g>\n",
              "</svg>\n",
              "  </button>\n",
              "\n",
              "<style>\n",
              "  .colab-df-quickchart {\n",
              "      --bg-color: #E8F0FE;\n",
              "      --fill-color: #1967D2;\n",
              "      --hover-bg-color: #E2EBFA;\n",
              "      --hover-fill-color: #174EA6;\n",
              "      --disabled-fill-color: #AAA;\n",
              "      --disabled-bg-color: #DDD;\n",
              "  }\n",
              "\n",
              "  [theme=dark] .colab-df-quickchart {\n",
              "      --bg-color: #3B4455;\n",
              "      --fill-color: #D2E3FC;\n",
              "      --hover-bg-color: #434B5C;\n",
              "      --hover-fill-color: #FFFFFF;\n",
              "      --disabled-bg-color: #3B4455;\n",
              "      --disabled-fill-color: #666;\n",
              "  }\n",
              "\n",
              "  .colab-df-quickchart {\n",
              "    background-color: var(--bg-color);\n",
              "    border: none;\n",
              "    border-radius: 50%;\n",
              "    cursor: pointer;\n",
              "    display: none;\n",
              "    fill: var(--fill-color);\n",
              "    height: 32px;\n",
              "    padding: 0;\n",
              "    width: 32px;\n",
              "  }\n",
              "\n",
              "  .colab-df-quickchart:hover {\n",
              "    background-color: var(--hover-bg-color);\n",
              "    box-shadow: 0 1px 2px rgba(60, 64, 67, 0.3), 0 1px 3px 1px rgba(60, 64, 67, 0.15);\n",
              "    fill: var(--button-hover-fill-color);\n",
              "  }\n",
              "\n",
              "  .colab-df-quickchart-complete:disabled,\n",
              "  .colab-df-quickchart-complete:disabled:hover {\n",
              "    background-color: var(--disabled-bg-color);\n",
              "    fill: var(--disabled-fill-color);\n",
              "    box-shadow: none;\n",
              "  }\n",
              "\n",
              "  .colab-df-spinner {\n",
              "    border: 2px solid var(--fill-color);\n",
              "    border-color: transparent;\n",
              "    border-bottom-color: var(--fill-color);\n",
              "    animation:\n",
              "      spin 1s steps(1) infinite;\n",
              "  }\n",
              "\n",
              "  @keyframes spin {\n",
              "    0% {\n",
              "      border-color: transparent;\n",
              "      border-bottom-color: var(--fill-color);\n",
              "      border-left-color: var(--fill-color);\n",
              "    }\n",
              "    20% {\n",
              "      border-color: transparent;\n",
              "      border-left-color: var(--fill-color);\n",
              "      border-top-color: var(--fill-color);\n",
              "    }\n",
              "    30% {\n",
              "      border-color: transparent;\n",
              "      border-left-color: var(--fill-color);\n",
              "      border-top-color: var(--fill-color);\n",
              "      border-right-color: var(--fill-color);\n",
              "    }\n",
              "    40% {\n",
              "      border-color: transparent;\n",
              "      border-right-color: var(--fill-color);\n",
              "      border-top-color: var(--fill-color);\n",
              "    }\n",
              "    60% {\n",
              "      border-color: transparent;\n",
              "      border-right-color: var(--fill-color);\n",
              "    }\n",
              "    80% {\n",
              "      border-color: transparent;\n",
              "      border-right-color: var(--fill-color);\n",
              "      border-bottom-color: var(--fill-color);\n",
              "    }\n",
              "    90% {\n",
              "      border-color: transparent;\n",
              "      border-bottom-color: var(--fill-color);\n",
              "    }\n",
              "  }\n",
              "</style>\n",
              "\n",
              "  <script>\n",
              "    async function quickchart(key) {\n",
              "      const quickchartButtonEl =\n",
              "        document.querySelector('#' + key + ' button');\n",
              "      quickchartButtonEl.disabled = true;  // To prevent multiple clicks.\n",
              "      quickchartButtonEl.classList.add('colab-df-spinner');\n",
              "      try {\n",
              "        const charts = await google.colab.kernel.invokeFunction(\n",
              "            'suggestCharts', [key], {});\n",
              "      } catch (error) {\n",
              "        console.error('Error during call to suggestCharts:', error);\n",
              "      }\n",
              "      quickchartButtonEl.classList.remove('colab-df-spinner');\n",
              "      quickchartButtonEl.classList.add('colab-df-quickchart-complete');\n",
              "    }\n",
              "    (() => {\n",
              "      let quickchartButtonEl =\n",
              "        document.querySelector('#df-626cf703-451c-465e-91fa-929fcfbb6a81 button');\n",
              "      quickchartButtonEl.style.display =\n",
              "        google.colab.kernel.accessAllowed ? 'block' : 'none';\n",
              "    })();\n",
              "  </script>\n",
              "</div>\n",
              "\n",
              "    </div>\n",
              "  </div>\n"
            ],
            "application/vnd.google.colaboratory.intrinsic+json": {
              "type": "dataframe",
              "variable_name": "dn",
              "summary": "{\n  \"name\": \"dn\",\n  \"rows\": 47,\n  \"fields\": [\n    {\n      \"column\": \"Comuna\",\n      \"properties\": {\n        \"dtype\": \"string\",\n        \"num_unique_values\": 47,\n        \"samples\": [\n          \"PEDRO AGUIRRE CERDA\",\n          \"SAN JOAQU\\u00eaN\",\n          \"PAINE\"\n        ],\n        \"semantic_type\": \"\",\n        \"description\": \"\"\n      }\n    },\n    {\n      \"column\": \"Total cantidad personas x comuna proyecci\\u0097n 2021\",\n      \"properties\": {\n        \"dtype\": \"number\",\n        \"std\": 138588,\n        \"min\": 18917,\n        \"max\": 655033,\n        \"num_unique_values\": 47,\n        \"samples\": [\n          107409,\n          103871,\n          84379\n        ],\n        \"semantic_type\": \"\",\n        \"description\": \"\"\n      }\n    },\n    {\n      \"column\": \"Ni\\u0096os (0-15) x comuna proyecci\\u0097n 2021\",\n      \"properties\": {\n        \"dtype\": \"number\",\n        \"std\": 25655,\n        \"min\": 3590,\n        \"max\": 136134,\n        \"num_unique_values\": 47,\n        \"samples\": [\n          18249,\n          17033,\n          17763\n        ],\n        \"semantic_type\": \"\",\n        \"description\": \"\"\n      }\n    },\n    {\n      \"column\": \"Cantidad de superficie comuna X m2 2021\",\n      \"properties\": {\n        \"dtype\": \"number\",\n        \"std\": 750102890,\n        \"min\": 7000000,\n        \"max\": 4994800000,\n        \"num_unique_values\": 41,\n        \"samples\": [\n          69000000,\n          70200000,\n          15000000\n        ],\n        \"semantic_type\": \"\",\n        \"description\": \"\"\n      }\n    },\n    {\n      \"column\": \" superficie de AAVV  2018\",\n      \"properties\": {\n        \"dtype\": \"number\",\n        \"std\": 730110.8222110994,\n        \"min\": 27703.81,\n        \"max\": 2927155.99,\n        \"num_unique_values\": 47,\n        \"samples\": [\n          530088.27,\n          462653.8,\n          173383.58\n        ],\n        \"semantic_type\": \"\",\n        \"description\": \"\"\n      }\n    },\n    {\n      \"column\": \"Superficie AAVVm2 por cantidad habitante (0-15 a\\u0096os)\",\n      \"properties\": {\n        \"dtype\": \"number\",\n        \"std\": 23.479799278501357,\n        \"min\": 4.44541239,\n        \"max\": 112.19617138,\n        \"num_unique_values\": 47,\n        \"samples\": [\n          29.04752425,\n          27.16220278,\n          9.76094016\n        ],\n        \"semantic_type\": \"\",\n        \"description\": \"\"\n      }\n    }\n  ]\n}"
            }
          },
          "metadata": {},
          "execution_count": 3
        }
      ]
    },
    {
      "cell_type": "markdown",
      "source": [
        "####Explorar datos"
      ],
      "metadata": {
        "id": "oJ34K8vaz14f"
      }
    },
    {
      "cell_type": "code",
      "source": [
        "# Verificar los nombres de las columnas\n",
        "print(dn.columns)"
      ],
      "metadata": {
        "colab": {
          "base_uri": "https://localhost:8080/"
        },
        "id": "a33YEsPFz9IW",
        "outputId": "b63379a5-ea79-45e5-9ea1-2d808ba59c10"
      },
      "execution_count": 4,
      "outputs": [
        {
          "output_type": "stream",
          "name": "stdout",
          "text": [
            "Index(['Comuna', 'Total cantidad personas x comuna proyeccin 2021',\n",
            "       'Nios (0-15) x comuna proyeccin 2021',\n",
            "       'Cantidad de superficie comuna X m2 2021', ' superficie de AAVV  2018',\n",
            "       'Superficie AAVVm2 por cantidad habitante (0-15 aos)'],\n",
            "      dtype='object')\n"
          ]
        }
      ]
    },
    {
      "cell_type": "code",
      "source": [
        "# Renombrar columnas para facilitar su uso\n",
        "dn.columns = [\n",
        "    'Comuna',\n",
        "    'Total_personas_2021',\n",
        "    'Ninos_0_15_2021',\n",
        "    'Superficie_comuna_m2_2021',\n",
        "    'Superficie_AAVV_2018',\n",
        "    'Superficie_AAVVm2_por_habitante'\n",
        "]"
      ],
      "metadata": {
        "id": "6-eVcBP8Ei1Y"
      },
      "execution_count": 5,
      "outputs": []
    },
    {
      "cell_type": "markdown",
      "source": [
        "####GRÁFICO"
      ],
      "metadata": {
        "id": "20Ikvwh_0Og1"
      }
    },
    {
      "cell_type": "code",
      "source": [
        "# Crear el gráfico de dispersión con la paleta ajustada\n",
        "chart = alt.Chart(dn).mark_circle().encode(\n",
        "    x='Superficie_AAVV_2018:Q',  # Superficie de áreas verdes\n",
        "    y='Ninos_0_15_2021:Q',        # Niños (0-15 años)\n",
        "    color=alt.Color(\n",
        "        'Ninos_0_15_2021:Q',\n",
        "        scale=alt.Scale(\n",
        "            domain=[dn['Ninos_0_15_2021'].min(), dn['Ninos_0_15_2021'].max()],\n",
        "            range=['#5aa86e', '#477a73', '#395e41',  # Verde\n",
        "                   '#77938b', '#b4ada1', '#b4a198',  # Gris\n",
        "                   '#ac7063', '#ac4c3d']  # Rojo\n",
        "        )\n",
        "    ),\n",
        "    size='Superficie_AAVV_2018:Q',  # Tamaño de la burbuja según superficie de áreas verdes\n",
        "    tooltip=['Comuna:N', 'Superficie_AAVV_2018:Q', 'Ninos_0_15_2021:Q']\n",
        ").properties(\n",
        "    title='Relación entre superficie de áreas verdes y población infantil por comuna',\n",
        "    width=600,\n",
        "    height=400\n",
        ").configure_title(\n",
        "    fontSize=20,\n",
        "    font='Lato'  # Cambiar la fuente aquí\n",
        ").configure_axis(\n",
        "    labelFont='Lato',\n",
        "    titleFont='Lato'\n",
        ").interactive()\n",
        "# Guardar el gráfico como un archivo HTML\n",
        "chart.save('grafico_areas_verdes.html')\n",
        "# Mostrar el gráfico\n",
        "chart"
      ],
      "metadata": {
        "colab": {
          "base_uri": "https://localhost:8080/",
          "height": 492
        },
        "id": "n-8-L7L90RJB",
        "outputId": "a2d58ab3-33b2-4335-9f0b-f92374374408"
      },
      "execution_count": 8,
      "outputs": [
        {
          "output_type": "execute_result",
          "data": {
            "text/html": [
              "\n",
              "<div id=\"altair-viz-1185dd3e140744998612586fd439caac\"></div>\n",
              "<script type=\"text/javascript\">\n",
              "  var VEGA_DEBUG = (typeof VEGA_DEBUG == \"undefined\") ? {} : VEGA_DEBUG;\n",
              "  (function(spec, embedOpt){\n",
              "    let outputDiv = document.currentScript.previousElementSibling;\n",
              "    if (outputDiv.id !== \"altair-viz-1185dd3e140744998612586fd439caac\") {\n",
              "      outputDiv = document.getElementById(\"altair-viz-1185dd3e140744998612586fd439caac\");\n",
              "    }\n",
              "    const paths = {\n",
              "      \"vega\": \"https://cdn.jsdelivr.net/npm//vega@5?noext\",\n",
              "      \"vega-lib\": \"https://cdn.jsdelivr.net/npm//vega-lib?noext\",\n",
              "      \"vega-lite\": \"https://cdn.jsdelivr.net/npm//vega-lite@4.17.0?noext\",\n",
              "      \"vega-embed\": \"https://cdn.jsdelivr.net/npm//vega-embed@6?noext\",\n",
              "    };\n",
              "\n",
              "    function maybeLoadScript(lib, version) {\n",
              "      var key = `${lib.replace(\"-\", \"\")}_version`;\n",
              "      return (VEGA_DEBUG[key] == version) ?\n",
              "        Promise.resolve(paths[lib]) :\n",
              "        new Promise(function(resolve, reject) {\n",
              "          var s = document.createElement('script');\n",
              "          document.getElementsByTagName(\"head\")[0].appendChild(s);\n",
              "          s.async = true;\n",
              "          s.onload = () => {\n",
              "            VEGA_DEBUG[key] = version;\n",
              "            return resolve(paths[lib]);\n",
              "          };\n",
              "          s.onerror = () => reject(`Error loading script: ${paths[lib]}`);\n",
              "          s.src = paths[lib];\n",
              "        });\n",
              "    }\n",
              "\n",
              "    function showError(err) {\n",
              "      outputDiv.innerHTML = `<div class=\"error\" style=\"color:red;\">${err}</div>`;\n",
              "      throw err;\n",
              "    }\n",
              "\n",
              "    function displayChart(vegaEmbed) {\n",
              "      vegaEmbed(outputDiv, spec, embedOpt)\n",
              "        .catch(err => showError(`Javascript Error: ${err.message}<br>This usually means there's a typo in your chart specification. See the javascript console for the full traceback.`));\n",
              "    }\n",
              "\n",
              "    if(typeof define === \"function\" && define.amd) {\n",
              "      requirejs.config({paths});\n",
              "      require([\"vega-embed\"], displayChart, err => showError(`Error loading script: ${err.message}`));\n",
              "    } else {\n",
              "      maybeLoadScript(\"vega\", \"5\")\n",
              "        .then(() => maybeLoadScript(\"vega-lite\", \"4.17.0\"))\n",
              "        .then(() => maybeLoadScript(\"vega-embed\", \"6\"))\n",
              "        .catch(showError)\n",
              "        .then(() => displayChart(vegaEmbed));\n",
              "    }\n",
              "  })({\"config\": {\"view\": {\"continuousWidth\": 400, \"continuousHeight\": 300}, \"axis\": {\"labelFont\": \"Lato\", \"titleFont\": \"Lato\"}, \"title\": {\"font\": \"Lato\", \"fontSize\": 20}}, \"data\": {\"name\": \"data-69364ff61dc1797f649a0374abada8ad\"}, \"mark\": \"circle\", \"encoding\": {\"color\": {\"field\": \"Ninos_0_15_2021\", \"scale\": {\"domain\": [3590.0, 136134.0], \"range\": [\"#5aa86e\", \"#477a73\", \"#395e41\", \"#77938b\", \"#b4ada1\", \"#b4a198\", \"#ac7063\", \"#ac4c3d\"]}, \"type\": \"quantitative\"}, \"size\": {\"field\": \"Superficie_AAVV_2018\", \"type\": \"quantitative\"}, \"tooltip\": [{\"field\": \"Comuna\", \"type\": \"nominal\"}, {\"field\": \"Superficie_AAVV_2018\", \"type\": \"quantitative\"}, {\"field\": \"Ninos_0_15_2021\", \"type\": \"quantitative\"}], \"x\": {\"field\": \"Superficie_AAVV_2018\", \"type\": \"quantitative\"}, \"y\": {\"field\": \"Ninos_0_15_2021\", \"type\": \"quantitative\"}}, \"height\": 400, \"selection\": {\"selector003\": {\"type\": \"interval\", \"bind\": \"scales\", \"encodings\": [\"x\", \"y\"]}}, \"title\": \"Relaci\\u00f3n entre superficie de \\u00e1reas verdes y poblaci\\u00f3n infantil por comuna\", \"width\": 600, \"$schema\": \"https://vega.github.io/schema/vega-lite/v4.17.0.json\", \"datasets\": {\"data-69364ff61dc1797f649a0374abada8ad\": [{\"Comuna\": \"BUIN\", \"Total_personas_2021\": 111934, \"Ninos_0_15_2021\": 23953, \"Superficie_comuna_m2_2021\": 214000000, \"Superficie_AAVV_2018\": 603984.88, \"Superficie_AAVVm2_por_habitante\": 25.21541686}, {\"Comuna\": \"CALERA DE TANGO\", \"Total_personas_2021\": 29019, \"Ninos_0_15_2021\": 5835, \"Superficie_comuna_m2_2021\": 73300000, \"Superficie_AAVV_2018\": 29946.03, \"Superficie_AAVVm2_por_habitante\": 5.13213882}, {\"Comuna\": \"CERRILLOS\", \"Total_personas_2021\": 89520, \"Ninos_0_15_2021\": 17299, \"Superficie_comuna_m2_2021\": 21000000, \"Superficie_AAVV_2018\": 1176964.65, \"Superficie_AAVVm2_por_habitante\": 68.03657148}, {\"Comuna\": \"CERRO NAVIA\", \"Total_personas_2021\": 142304, \"Ninos_0_15_2021\": 26810, \"Superficie_comuna_m2_2021\": 11000000, \"Superficie_AAVV_2018\": 786372.48, \"Superficie_AAVVm2_por_habitante\": 29.3313122}, {\"Comuna\": \"COLINA\", \"Total_personas_2021\": 185599, \"Ninos_0_15_2021\": 47279, \"Superficie_comuna_m2_2021\": 971200000, \"Superficie_AAVV_2018\": 1115239.62, \"Superficie_AAVVm2_por_habitante\": 23.58847734}, {\"Comuna\": \"CONCHAL\\u00ea\", \"Total_personas_2021\": 139394, \"Ninos_0_15_2021\": 24695, \"Superficie_comuna_m2_2021\": 10700000, \"Superficie_AAVV_2018\": 417852.0, \"Superficie_AAVVm2_por_habitante\": 16.92051022}, {\"Comuna\": \"EL BOSQUE\", \"Total_personas_2021\": 171789, \"Ninos_0_15_2021\": 33279, \"Superficie_comuna_m2_2021\": 14200000, \"Superficie_AAVV_2018\": 329261.04, \"Superficie_AAVVm2_por_habitante\": 9.89395835}, {\"Comuna\": \"EL MONTE\", \"Total_personas_2021\": 40620, \"Ninos_0_15_2021\": 8778, \"Superficie_comuna_m2_2021\": 118000000, \"Superficie_AAVV_2018\": 108909.92, \"Superficie_AAVVm2_por_habitante\": 12.40714514}, {\"Comuna\": \"ESTACI\\u00eeN CENTRAL\", \"Total_personas_2021\": 214470, \"Ninos_0_15_2021\": 34211, \"Superficie_comuna_m2_2021\": 15000000, \"Superficie_AAVV_2018\": 533763.86, \"Superficie_AAVVm2_por_habitante\": 15.60211219}, {\"Comuna\": \"HUECHURABA\", \"Total_personas_2021\": 114453, \"Ninos_0_15_2021\": 25584, \"Superficie_comuna_m2_2021\": 44800000, \"Superficie_AAVV_2018\": 1061523.43, \"Superficie_AAVVm2_por_habitante\": 41.49169129}, {\"Comuna\": \"INDEPENDENCIA\", \"Total_personas_2021\": 147655, \"Ninos_0_15_2021\": 23527, \"Superficie_comuna_m2_2021\": 7000000, \"Superficie_AAVV_2018\": 155440.97, \"Superficie_AAVVm2_por_habitante\": 6.60691843}, {\"Comuna\": \"ISLA DE MAIPO\", \"Total_personas_2021\": 40803, \"Ninos_0_15_2021\": 8637, \"Superficie_comuna_m2_2021\": 189000000, \"Superficie_AAVV_2018\": 72272.67, \"Superficie_AAVVm2_por_habitante\": 8.36779785}, {\"Comuna\": \"LA CISTERNA\", \"Total_personas_2021\": 101126, \"Ninos_0_15_2021\": 17063, \"Superficie_comuna_m2_2021\": 10000000, \"Superficie_AAVV_2018\": 160366.5, \"Superficie_AAVVm2_por_habitante\": 9.39849382}, {\"Comuna\": \"LA FLORIDA\", \"Total_personas_2021\": 405185, \"Ninos_0_15_2021\": 70660, \"Superficie_comuna_m2_2021\": 70200000, \"Superficie_AAVV_2018\": 1375949.93, \"Superficie_AAVVm2_por_habitante\": 19.47282663}, {\"Comuna\": \"LA GRANJA\", \"Total_personas_2021\": 122028, \"Ninos_0_15_2021\": 22486, \"Superficie_comuna_m2_2021\": 10000000, \"Superficie_AAVV_2018\": 848111.12, \"Superficie_AAVVm2_por_habitante\": 37.7172961}, {\"Comuna\": \"LA PINTANA\", \"Total_personas_2021\": 189454, \"Ninos_0_15_2021\": 42430, \"Superficie_comuna_m2_2021\": 30600000, \"Superficie_AAVV_2018\": 611122.67, \"Superficie_AAVVm2_por_habitante\": 14.40307966}, {\"Comuna\": \"LA REINA\", \"Total_personas_2021\": 100459, \"Ninos_0_15_2021\": 17356, \"Superficie_comuna_m2_2021\": 23000000, \"Superficie_AAVV_2018\": 1296980.73, \"Superficie_AAVVm2_por_habitante\": 74.72809}, {\"Comuna\": \"LAMPA\", \"Total_personas_2021\": 131436, \"Ninos_0_15_2021\": 33065, \"Superficie_comuna_m2_2021\": 452000000, \"Superficie_AAVV_2018\": 555319.97, \"Superficie_AAVVm2_por_habitante\": 16.79479722}, {\"Comuna\": \"LAS CONDES\", \"Total_personas_2021\": 335296, \"Ninos_0_15_2021\": 49356, \"Superficie_comuna_m2_2021\": 99000000, \"Superficie_AAVV_2018\": 1432747.4, \"Superficie_AAVVm2_por_habitante\": 29.02883945}, {\"Comuna\": \"LO BARNECHEA\", \"Total_personas_2021\": 126816, \"Ninos_0_15_2021\": 29288, \"Superficie_comuna_m2_2021\": 1024000000, \"Superficie_AAVV_2018\": 1567804.34, \"Superficie_AAVVm2_por_habitante\": 53.53060434}, {\"Comuna\": \"LO ESPEJO\", \"Total_personas_2021\": 103381, \"Ninos_0_15_2021\": 19425, \"Superficie_comuna_m2_2021\": 7000000, \"Superficie_AAVV_2018\": 430503.44, \"Superficie_AAVVm2_por_habitante\": 22.16233925}, {\"Comuna\": \"LO PRADO\", \"Total_personas_2021\": 104405, \"Ninos_0_15_2021\": 18007, \"Superficie_comuna_m2_2021\": 7000000, \"Superficie_AAVV_2018\": 306691.98, \"Superficie_AAVVm2_por_habitante\": 17.03181985}, {\"Comuna\": \"MACUL\", \"Total_personas_2021\": 136278, \"Ninos_0_15_2021\": 21665, \"Superficie_comuna_m2_2021\": 12900000, \"Superficie_AAVV_2018\": 480763.06, \"Superficie_AAVVm2_por_habitante\": 22.19077129}, {\"Comuna\": \"MAIP\\u00f2\", \"Total_personas_2021\": 584053, \"Ninos_0_15_2021\": 108454, \"Superficie_comuna_m2_2021\": 135500000, \"Superficie_AAVV_2018\": 2847701.93, \"Superficie_AAVVm2_por_habitante\": 26.25723284}, {\"Comuna\": \"\\u0084U\\u0084OA\", \"Total_personas_2021\": 255823, \"Ninos_0_15_2021\": 35833, \"Superficie_comuna_m2_2021\": 16900000, \"Superficie_AAVV_2018\": 508452.16, \"Superficie_AAVVm2_por_habitante\": 14.1894946}, {\"Comuna\": \"PADRE HURTADO\", \"Total_personas_2021\": 76219, \"Ninos_0_15_2021\": 16342, \"Superficie_comuna_m2_2021\": 80800000, \"Superficie_AAVV_2018\": 393787.75, \"Superficie_AAVVm2_por_habitante\": 24.09666809}, {\"Comuna\": \"PAINE\", \"Total_personas_2021\": 84379, \"Ninos_0_15_2021\": 17763, \"Superficie_comuna_m2_2021\": 820000000, \"Superficie_AAVV_2018\": 173383.58, \"Superficie_AAVVm2_por_habitante\": 9.76094016}, {\"Comuna\": \"PEDRO AGUIRRE CERDA\", \"Total_personas_2021\": 107409, \"Ninos_0_15_2021\": 18249, \"Superficie_comuna_m2_2021\": 10000000, \"Superficie_AAVV_2018\": 530088.27, \"Superficie_AAVVm2_por_habitante\": 29.04752425}, {\"Comuna\": \"PE\\u0084AFLOR\", \"Total_personas_2021\": 102667, \"Ninos_0_15_2021\": 21714, \"Superficie_comuna_m2_2021\": 69000000, \"Superficie_AAVV_2018\": 393977.81, \"Superficie_AAVVm2_por_habitante\": 18.14395367}, {\"Comuna\": \"PE\\u0084ALOL\\u0083N\", \"Total_personas_2021\": 269296, \"Ninos_0_15_2021\": 52650, \"Superficie_comuna_m2_2021\": 54000000, \"Superficie_AAVV_2018\": 1367424.45, \"Superficie_AAVVm2_por_habitante\": 25.97197436}, {\"Comuna\": \"PIRQUE\", \"Total_personas_2021\": 31134, \"Ninos_0_15_2021\": 6232, \"Superficie_comuna_m2_2021\": 445300000, \"Superficie_AAVV_2018\": 27703.81, \"Superficie_AAVVm2_por_habitante\": 4.44541239}, {\"Comuna\": \"PROVIDENCIA\", \"Total_personas_2021\": 160043, \"Ninos_0_15_2021\": 18905, \"Superficie_comuna_m2_2021\": 14300000, \"Superficie_AAVV_2018\": 2121068.62, \"Superficie_AAVVm2_por_habitante\": 112.19617138}, {\"Comuna\": \"PUDAHUEL\", \"Total_personas_2021\": 256607, \"Ninos_0_15_2021\": 51888, \"Superficie_comuna_m2_2021\": 197000000, \"Superficie_AAVV_2018\": 1048199.86, \"Superficie_AAVVm2_por_habitante\": 20.20119989}, {\"Comuna\": \"PUENTE ALTO\", \"Total_personas_2021\": 655033, \"Ninos_0_15_2021\": 136134, \"Superficie_comuna_m2_2021\": 88000000, \"Superficie_AAVV_2018\": 2492680.23, \"Superficie_AAVVm2_por_habitante\": 18.31048988}, {\"Comuna\": \"QUILICURA\", \"Total_personas_2021\": 261993, \"Ninos_0_15_2021\": 57497, \"Superficie_comuna_m2_2021\": 58000000, \"Superficie_AAVV_2018\": 844303.87, \"Superficie_AAVVm2_por_habitante\": 14.6843117}, {\"Comuna\": \"QUINTA NORMAL\", \"Total_personas_2021\": 138904, \"Ninos_0_15_2021\": 23149, \"Superficie_comuna_m2_2021\": 13000000, \"Superficie_AAVV_2018\": 398697.29, \"Superficie_AAVVm2_por_habitante\": 17.22308912}, {\"Comuna\": \"RECOLETA\", \"Total_personas_2021\": 193605, \"Ninos_0_15_2021\": 33287, \"Superficie_comuna_m2_2021\": 16000000, \"Superficie_AAVV_2018\": 2927155.99, \"Superficie_AAVVm2_por_habitante\": 87.93691201}, {\"Comuna\": \"RENCA\", \"Total_personas_2021\": 161959, \"Ninos_0_15_2021\": 33823, \"Superficie_comuna_m2_2021\": 24000000, \"Superficie_AAVV_2018\": 672938.41, \"Superficie_AAVVm2_por_habitante\": 19.8958818}, {\"Comuna\": \"SAN BERNARDO\", \"Total_personas_2021\": 339043, \"Ninos_0_15_2021\": 73730, \"Superficie_comuna_m2_2021\": 155000000, \"Superficie_AAVV_2018\": 1202249.04, \"Superficie_AAVVm2_por_habitante\": 16.30610389}, {\"Comuna\": \"SAN JOAQU\\u00eaN\", \"Total_personas_2021\": 103871, \"Ninos_0_15_2021\": 17033, \"Superficie_comuna_m2_2021\": 9700000, \"Superficie_AAVV_2018\": 462653.8, \"Superficie_AAVVm2_por_habitante\": 27.16220278}, {\"Comuna\": \"SAN JOS\\u0083 DE MAIPO\", \"Total_personas_2021\": 18917, \"Ninos_0_15_2021\": 3590, \"Superficie_comuna_m2_2021\": 4994800000, \"Superficie_AAVV_2018\": 43960.58, \"Superficie_AAVVm2_por_habitante\": 12.24528691}, {\"Comuna\": \"SAN MIGUEL\", \"Total_personas_2021\": 136835, \"Ninos_0_15_2021\": 21632, \"Superficie_comuna_m2_2021\": 10000000, \"Superficie_AAVV_2018\": 212503.55, \"Superficie_AAVVm2_por_habitante\": 9.82357387}, {\"Comuna\": \"SAN RAM\\u00eeN\", \"Total_personas_2021\": 86017, \"Ninos_0_15_2021\": 15714, \"Superficie_comuna_m2_2021\": 7000000, \"Superficie_AAVV_2018\": 382813.02, \"Superficie_AAVVm2_por_habitante\": 24.36127148}, {\"Comuna\": \"SANTIAGO\", \"Total_personas_2021\": 517280, \"Ninos_0_15_2021\": 58856, \"Superficie_comuna_m2_2021\": 22000000, \"Superficie_AAVV_2018\": 1868007.66, \"Superficie_AAVVm2_por_habitante\": 31.73861051}, {\"Comuna\": \"TALAGANTE\", \"Total_personas_2021\": 82900, \"Ninos_0_15_2021\": 17199, \"Superficie_comuna_m2_2021\": 126000000, \"Superficie_AAVV_2018\": 409053.02, \"Superficie_AAVVm2_por_habitante\": 23.78353509}, {\"Comuna\": \"TILTIL\", \"Total_personas_2021\": 21783, \"Ninos_0_15_2021\": 4473, \"Superficie_comuna_m2_2021\": 653000000, \"Superficie_AAVV_2018\": 78790.45, \"Superficie_AAVVm2_por_habitante\": 17.61467695}, {\"Comuna\": \"VITACURA\", \"Total_personas_2021\": 97695, \"Ninos_0_15_2021\": 17089, \"Superficie_comuna_m2_2021\": 28300000, \"Superficie_AAVV_2018\": 1592903.19, \"Superficie_AAVVm2_por_habitante\": 93.21219439}]}}, {\"mode\": \"vega-lite\"});\n",
              "</script>"
            ],
            "text/plain": [
              "alt.Chart(...)"
            ]
          },
          "metadata": {},
          "execution_count": 8
        }
      ]
    }
  ]
}
