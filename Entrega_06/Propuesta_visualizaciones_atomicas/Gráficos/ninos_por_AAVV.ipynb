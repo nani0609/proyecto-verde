{
  "nbformat": 4,
  "nbformat_minor": 0,
  "metadata": {
    "colab": {
      "provenance": []
    },
    "kernelspec": {
      "name": "python3",
      "display_name": "Python 3"
    },
    "language_info": {
      "name": "python"
    }
  },
  "cells": [
    {
      "cell_type": "markdown",
      "source": [
        "###Instalación"
      ],
      "metadata": {
        "id": "A214ioSJ9GDI"
      }
    },
    {
      "cell_type": "code",
      "source": [
        "pip install altair"
      ],
      "metadata": {
        "colab": {
          "base_uri": "https://localhost:8080/"
        },
        "id": "MpYjtfz29Gl2",
        "outputId": "0a4a26b7-4946-4463-ad5f-ac0ebd857497"
      },
      "execution_count": null,
      "outputs": [
        {
          "output_type": "stream",
          "name": "stdout",
          "text": [
            "Requirement already satisfied: altair in /usr/local/lib/python3.10/dist-packages (4.2.2)\n",
            "Requirement already satisfied: entrypoints in /usr/local/lib/python3.10/dist-packages (from altair) (0.4)\n",
            "Requirement already satisfied: jinja2 in /usr/local/lib/python3.10/dist-packages (from altair) (3.1.4)\n",
            "Requirement already satisfied: jsonschema>=3.0 in /usr/local/lib/python3.10/dist-packages (from altair) (4.23.0)\n",
            "Requirement already satisfied: numpy in /usr/local/lib/python3.10/dist-packages (from altair) (1.26.4)\n",
            "Requirement already satisfied: pandas>=0.18 in /usr/local/lib/python3.10/dist-packages (from altair) (2.2.2)\n",
            "Requirement already satisfied: toolz in /usr/local/lib/python3.10/dist-packages (from altair) (0.12.1)\n",
            "Requirement already satisfied: attrs>=22.2.0 in /usr/local/lib/python3.10/dist-packages (from jsonschema>=3.0->altair) (24.2.0)\n",
            "Requirement already satisfied: jsonschema-specifications>=2023.03.6 in /usr/local/lib/python3.10/dist-packages (from jsonschema>=3.0->altair) (2024.10.1)\n",
            "Requirement already satisfied: referencing>=0.28.4 in /usr/local/lib/python3.10/dist-packages (from jsonschema>=3.0->altair) (0.35.1)\n",
            "Requirement already satisfied: rpds-py>=0.7.1 in /usr/local/lib/python3.10/dist-packages (from jsonschema>=3.0->altair) (0.22.3)\n",
            "Requirement already satisfied: python-dateutil>=2.8.2 in /usr/local/lib/python3.10/dist-packages (from pandas>=0.18->altair) (2.8.2)\n",
            "Requirement already satisfied: pytz>=2020.1 in /usr/local/lib/python3.10/dist-packages (from pandas>=0.18->altair) (2024.2)\n",
            "Requirement already satisfied: tzdata>=2022.7 in /usr/local/lib/python3.10/dist-packages (from pandas>=0.18->altair) (2024.2)\n",
            "Requirement already satisfied: MarkupSafe>=2.0 in /usr/local/lib/python3.10/dist-packages (from jinja2->altair) (3.0.2)\n",
            "Requirement already satisfied: six>=1.5 in /usr/local/lib/python3.10/dist-packages (from python-dateutil>=2.8.2->pandas>=0.18->altair) (1.16.0)\n"
          ]
        }
      ]
    },
    {
      "cell_type": "code",
      "execution_count": null,
      "metadata": {
        "colab": {
          "base_uri": "https://localhost:8080/",
          "height": 17
        },
        "id": "sgb8oefp8usa",
        "outputId": "a8dce301-2a15-4ffc-ae6f-2d388b1f44fc"
      },
      "outputs": [
        {
          "output_type": "execute_result",
          "data": {
            "text/plain": [
              "<IPython.core.display.HTML object>"
            ],
            "text/html": [
              "<link href=\"https://fonts.googleapis.com/css2?family=Lato:ital,wght@0,100;0,300;0,400;0,700;0,900;1,100;1,300;1,400;1,700;1,900&display=swap\" rel=\"stylesheet\">"
            ]
          },
          "metadata": {},
          "execution_count": 3
        }
      ],
      "source": [
        "import warnings\n",
        "\n",
        "# Ignorar advertencias de tipo FutureWarning\n",
        "warnings.simplefilter(action='ignore', category=FutureWarning)\n",
        "\n",
        "from IPython.core.display import HTML\n",
        "\n",
        "HTML('<link href=\"https://fonts.googleapis.com/css2?family=Lato:ital,wght@0,100;0,300;0,400;0,700;0,900;1,100;1,300;1,400;1,700;1,900&display=swap\" rel=\"stylesheet\">')"
      ]
    },
    {
      "cell_type": "markdown",
      "source": [
        "###Importar"
      ],
      "metadata": {
        "id": "QtJQjTHJ9W5x"
      }
    },
    {
      "cell_type": "code",
      "source": [
        "import altair as alt\n",
        "import pandas as pd\n",
        "import matplotlib.pyplot as plt\n",
        "from IPython.display import IFrame"
      ],
      "metadata": {
        "id": "kt9kV97C9aI2"
      },
      "execution_count": null,
      "outputs": []
    },
    {
      "cell_type": "code",
      "source": [
        "# Cargar los datos desde el CSV\n",
        "dn= '/content/drive/MyDrive/AAVV X COMUNA.csv'  # Reemplaza esto con la ruta correcta\n",
        "data = pd.read_csv(dn)\n",
        "print(data.head())"
      ],
      "metadata": {
        "colab": {
          "base_uri": "https://localhost:8080/"
        },
        "id": "xnk2BB9Z9i_0",
        "outputId": "1f74dc75-0521-40e0-fa57-e786bfabf82b"
      },
      "execution_count": null,
      "outputs": [
        {
          "output_type": "stream",
          "name": "stdout",
          "text": [
            "            Comuna  Total cantidad personas x comuna proyeccion 2021  \\\n",
            "0             BUIN                                            111934   \n",
            "1  CALERA DE TANGO                                             29019   \n",
            "2        CERRILLOS                                             89520   \n",
            "3      CERRO NAVIA                                            142304   \n",
            "4           COLINA                                            185599   \n",
            "\n",
            "   Ninos (0-15) x comuna proyeccion 2021  \\\n",
            "0                                  23953   \n",
            "1                                   5835   \n",
            "2                                  17299   \n",
            "3                                  26810   \n",
            "4                                  47279   \n",
            "\n",
            "   Cantidad de superficie comuna X m2 2021   superficie de AAVV  2018  \\\n",
            "0                                214000000                  603984.88   \n",
            "1                                 73300000                   29946.03   \n",
            "2                                 21000000                 1176964.65   \n",
            "3                                 11000000                  786372.48   \n",
            "4                                971200000                 1115239.62   \n",
            "\n",
            "   Superficie AAVVm2 por cantidad habitante (0-15 anos)  \n",
            "0                                          25.215417     \n",
            "1                                           5.132139     \n",
            "2                                          68.036571     \n",
            "3                                          29.331312     \n",
            "4                                          23.588477     \n"
          ]
        }
      ]
    },
    {
      "cell_type": "markdown",
      "source": [
        "###Explorar datos"
      ],
      "metadata": {
        "id": "MtCX9PZB9yXm"
      }
    },
    {
      "cell_type": "code",
      "source": [
        "# Verificar los nombres de las columnas\n",
        "print(data.columns)"
      ],
      "metadata": {
        "colab": {
          "base_uri": "https://localhost:8080/"
        },
        "id": "v3jK1uuS91Sb",
        "outputId": "0402bffb-8b15-44d2-b956-b59f4489cbc7"
      },
      "execution_count": null,
      "outputs": [
        {
          "output_type": "stream",
          "name": "stdout",
          "text": [
            "Index(['Comuna', 'Total cantidad personas x comuna proyeccion 2021',\n",
            "       'Ninos (0-15) x comuna proyeccion 2021',\n",
            "       'Cantidad de superficie comuna X m2 2021', ' superficie de AAVV  2018',\n",
            "       'Superficie AAVVm2 por cantidad habitante (0-15 anos)'],\n",
            "      dtype='object')\n"
          ]
        }
      ]
    },
    {
      "cell_type": "code",
      "source": [
        "# Renombrar columnas para facilitar su uso\n",
        "data.columns = [\n",
        "    'Comuna',\n",
        "    'Total_personas_2021',\n",
        "    'Ninos_0_15_2021',\n",
        "    'Superficie_comuna_m2_2021',\n",
        "    'Superficie_AAVV_2018',  # Supongo que esta columna representa la superficie neta de áreas verdes\n",
        "    'Superficie_AAVVm2_por_habitante'\n",
        "]\n",
        "# Mostrar las primeras filas para verificar los cambios\n",
        "print(data.head())"
      ],
      "metadata": {
        "colab": {
          "base_uri": "https://localhost:8080/"
        },
        "id": "H8Yv6JBC95DM",
        "outputId": "d80266ee-1d2c-4efc-eebe-7e13f7ebe4de"
      },
      "execution_count": null,
      "outputs": [
        {
          "output_type": "stream",
          "name": "stdout",
          "text": [
            "            Comuna  Total_personas_2021  Ninos_0_15_2021  \\\n",
            "0             BUIN               111934            23953   \n",
            "1  CALERA DE TANGO                29019             5835   \n",
            "2        CERRILLOS                89520            17299   \n",
            "3      CERRO NAVIA               142304            26810   \n",
            "4           COLINA               185599            47279   \n",
            "\n",
            "   Superficie_comuna_m2_2021  Superficie_AAVV_2018  \\\n",
            "0                  214000000             603984.88   \n",
            "1                   73300000              29946.03   \n",
            "2                   21000000            1176964.65   \n",
            "3                   11000000             786372.48   \n",
            "4                  971200000            1115239.62   \n",
            "\n",
            "   Superficie_AAVVm2_por_habitante  \n",
            "0                        25.215417  \n",
            "1                         5.132139  \n",
            "2                        68.036571  \n",
            "3                        29.331312  \n",
            "4                        23.588477  \n"
          ]
        }
      ]
    },
    {
      "cell_type": "markdown",
      "source": [
        "###Calcular tasa"
      ],
      "metadata": {
        "id": "1YUekyuq-HRo"
      }
    },
    {
      "cell_type": "code",
      "source": [
        "# Calcular la tasa de superficie de áreas verdes por menor de edad\n",
        "data['Tasa_Areas_Verdes'] = data['Superficie_AAVV_2018'] / data['Ninos_0_15_2021']"
      ],
      "metadata": {
        "id": "jaYlXz5a-JAr"
      },
      "execution_count": null,
      "outputs": []
    },
    {
      "cell_type": "markdown",
      "source": [
        "###Gráfico"
      ],
      "metadata": {
        "id": "bKEjx3dM-SnH"
      }
    },
    {
      "cell_type": "code",
      "source": [
        "# Normalizar el tamaño de los puntos (más grande indica mejor tasa)\n",
        "data['Tamaño_Punto'] = (data['Tasa_Areas_Verdes'] - data['Tasa_Areas_Verdes'].min()) / (data['Tasa_Areas_Verdes'].max() - data['Tasa_Areas_Verdes'].min()) * 500\n",
        "data['Tamaño_Punto'] = data['Tamaño_Punto'].clip(lower=50)\n",
        "\n",
        "# Crear un campo para resaltar las comunas específicas\n",
        "comunas_destacadas = ['PUENTE ALTO', 'MAIPU']\n",
        "data['Color'] = data['Comuna'].apply(lambda x: x.strip().upper() if x.strip().upper() in comunas_destacadas else 'Otras Comunas')\n",
        "\n",
        "# Crear el gráfico de dispersión\n",
        "chart = alt.Chart(data).mark_circle().encode(\n",
        "    x='Ninos_0_15_2021',  # Eje X: Cantidad de Niños\n",
        "    y='Superficie_AAVV_2018',  # Eje Y: Superficie neta de áreas verdes\n",
        "    size=alt.Size('Tamaño_Punto', legend=None),  # Tamaño de los círculos\n",
        "    color=alt.Color('Color:N',\n",
        "                    scale=alt.Scale(domain=comunas_destacadas + ['Otras Comunas'],\n",
        "                                    range=['#B22222', '#FF6347', '#90EE90'])),  # Colores para las comunas\n",
        "    tooltip=[\n",
        "        alt.Tooltip('Comuna', title='Comuna'),\n",
        "        alt.Tooltip('Ninos_0_15_2021', title='Cantidad de Niños'),\n",
        "        alt.Tooltip('Tasa_Areas_Verdes', title='Tasa de AAVV por Menor de Edad', format='.2f'),\n",
        "        alt.Tooltip('Superficie_AAVV_2018', title='Superficie de AAVV (m²)')\n",
        "    ]\n",
        ").properties(\n",
        "title='Gráfico de Dispersión: Niños y Superficie Neta de Áreas Verdes',\n",
        "    background='white',  # Establecer fondo como transparente\n",
        "    width=700,  # Ajustar el ancho del gráfico\n",
        "    height=500  # Ajustar la altura del gráfico\n",
        ").interactive()\n",
        "\n",
        "# Ajustar la escala de los ejes para mostrar mejor la relación inversa\n",
        "x_axis = alt.X('Ninos_0_15_2021:Q', title='Cantidad de Niños')\n",
        "y_axis = alt.Y('Superficie_AAVV_2018:Q', title='Superficie de AAVV (m²)', scale=alt.Scale(domain=[0, data['Superficie_AAVV_2018'].max()]))\n",
        "\n",
        "# Combinar el gráfico y ajustar ejes\n",
        "final_chart = chart.encode(x=x_axis, y=y_axis)\n",
        "chart.save('chart.html')\n",
        "# Mostrar el gráfico\n",
        "final_chart"
      ],
      "metadata": {
        "colab": {
          "base_uri": "https://localhost:8080/",
          "height": 585
        },
        "id": "TDNDhRaP-UPx",
        "outputId": "3d0f282f-9ebc-4f94-8b29-d8af5e29b8fc"
      },
      "execution_count": null,
      "outputs": [
        {
          "output_type": "execute_result",
          "data": {
            "text/html": [
              "\n",
              "<div id=\"altair-viz-0e9d773c881a43deb228ab5beee053f0\"></div>\n",
              "<script type=\"text/javascript\">\n",
              "  var VEGA_DEBUG = (typeof VEGA_DEBUG == \"undefined\") ? {} : VEGA_DEBUG;\n",
              "  (function(spec, embedOpt){\n",
              "    let outputDiv = document.currentScript.previousElementSibling;\n",
              "    if (outputDiv.id !== \"altair-viz-0e9d773c881a43deb228ab5beee053f0\") {\n",
              "      outputDiv = document.getElementById(\"altair-viz-0e9d773c881a43deb228ab5beee053f0\");\n",
              "    }\n",
              "    const paths = {\n",
              "      \"vega\": \"https://cdn.jsdelivr.net/npm//vega@5?noext\",\n",
              "      \"vega-lib\": \"https://cdn.jsdelivr.net/npm//vega-lib?noext\",\n",
              "      \"vega-lite\": \"https://cdn.jsdelivr.net/npm//vega-lite@4.17.0?noext\",\n",
              "      \"vega-embed\": \"https://cdn.jsdelivr.net/npm//vega-embed@6?noext\",\n",
              "    };\n",
              "\n",
              "    function maybeLoadScript(lib, version) {\n",
              "      var key = `${lib.replace(\"-\", \"\")}_version`;\n",
              "      return (VEGA_DEBUG[key] == version) ?\n",
              "        Promise.resolve(paths[lib]) :\n",
              "        new Promise(function(resolve, reject) {\n",
              "          var s = document.createElement('script');\n",
              "          document.getElementsByTagName(\"head\")[0].appendChild(s);\n",
              "          s.async = true;\n",
              "          s.onload = () => {\n",
              "            VEGA_DEBUG[key] = version;\n",
              "            return resolve(paths[lib]);\n",
              "          };\n",
              "          s.onerror = () => reject(`Error loading script: ${paths[lib]}`);\n",
              "          s.src = paths[lib];\n",
              "        });\n",
              "    }\n",
              "\n",
              "    function showError(err) {\n",
              "      outputDiv.innerHTML = `<div class=\"error\" style=\"color:red;\">${err}</div>`;\n",
              "      throw err;\n",
              "    }\n",
              "\n",
              "    function displayChart(vegaEmbed) {\n",
              "      vegaEmbed(outputDiv, spec, embedOpt)\n",
              "        .catch(err => showError(`Javascript Error: ${err.message}<br>This usually means there's a typo in your chart specification. See the javascript console for the full traceback.`));\n",
              "    }\n",
              "\n",
              "    if(typeof define === \"function\" && define.amd) {\n",
              "      requirejs.config({paths});\n",
              "      require([\"vega-embed\"], displayChart, err => showError(`Error loading script: ${err.message}`));\n",
              "    } else {\n",
              "      maybeLoadScript(\"vega\", \"5\")\n",
              "        .then(() => maybeLoadScript(\"vega-lite\", \"4.17.0\"))\n",
              "        .then(() => maybeLoadScript(\"vega-embed\", \"6\"))\n",
              "        .catch(showError)\n",
              "        .then(() => displayChart(vegaEmbed));\n",
              "    }\n",
              "  })({\"config\": {\"view\": {\"continuousWidth\": 400, \"continuousHeight\": 300}}, \"data\": {\"name\": \"data-154b54771dece2bf6de9d0e602933338\"}, \"mark\": \"circle\", \"background\": \"white\", \"encoding\": {\"color\": {\"field\": \"Color\", \"scale\": {\"domain\": [\"PUENTE ALTO\", \"MAIPU\", \"Otras Comunas\"], \"range\": [\"#B22222\", \"#FF6347\", \"#90EE90\"]}, \"type\": \"nominal\"}, \"size\": {\"field\": \"Tama\\u00f1o_Punto\", \"legend\": null, \"type\": \"quantitative\"}, \"tooltip\": [{\"field\": \"Comuna\", \"title\": \"Comuna\", \"type\": \"nominal\"}, {\"field\": \"Ninos_0_15_2021\", \"title\": \"Cantidad de Ni\\u00f1os\", \"type\": \"quantitative\"}, {\"field\": \"Tasa_Areas_Verdes\", \"format\": \".2f\", \"title\": \"Tasa de AAVV por Menor de Edad\", \"type\": \"quantitative\"}, {\"field\": \"Superficie_AAVV_2018\", \"title\": \"Superficie de AAVV (m\\u00b2)\", \"type\": \"quantitative\"}], \"x\": {\"field\": \"Ninos_0_15_2021\", \"title\": \"Cantidad de Ni\\u00f1os\", \"type\": \"quantitative\"}, \"y\": {\"field\": \"Superficie_AAVV_2018\", \"scale\": {\"domain\": [0, 2927155.99]}, \"title\": \"Superficie de AAVV (m\\u00b2)\", \"type\": \"quantitative\"}}, \"height\": 500, \"selection\": {\"selector009\": {\"type\": \"interval\", \"bind\": \"scales\", \"encodings\": [\"x\", \"y\"]}}, \"title\": \"Gr\\u00e1fico de Dispersi\\u00f3n: Ni\\u00f1os y Superficie Neta de \\u00c1reas Verdes\", \"width\": 700, \"$schema\": \"https://vega.github.io/schema/vega-lite/v4.17.0.json\", \"datasets\": {\"data-154b54771dece2bf6de9d0e602933338\": [{\"Comuna\": \"BUIN\", \"Total_personas_2021\": 111934, \"Ninos_0_15_2021\": 23953, \"Superficie_comuna_m2_2021\": 214000000, \"Superficie_AAVV_2018\": 603984.88, \"Superficie_AAVVm2_por_habitante\": 25.21541686, \"Tasa_Areas_Verdes\": 25.21541685801361, \"Tama\\u00f1o_Punto\": 96.37985228110473, \"Color\": \"Otras Comunas\"}, {\"Comuna\": \"CALERA DE TANGO\", \"Total_personas_2021\": 29019, \"Ninos_0_15_2021\": 5835, \"Superficie_comuna_m2_2021\": 73300000, \"Superficie_AAVV_2018\": 29946.03, \"Superficie_AAVVm2_por_habitante\": 5.13213882, \"Tasa_Areas_Verdes\": 5.13213881748072, \"Tama\\u00f1o_Punto\": 50.0, \"Color\": \"Otras Comunas\"}, {\"Comuna\": \"CERRILLOS\", \"Total_personas_2021\": 89520, \"Ninos_0_15_2021\": 17299, \"Superficie_comuna_m2_2021\": 21000000, \"Superficie_AAVV_2018\": 1176964.65, \"Superficie_AAVVm2_por_habitante\": 68.03657148, \"Tasa_Areas_Verdes\": 68.03657147812012, \"Tama\\u00f1o_Punto\": 295.08450651872744, \"Color\": \"Otras Comunas\"}, {\"Comuna\": \"CERRO NAVIA\", \"Total_personas_2021\": 142304, \"Ninos_0_15_2021\": 26810, \"Superficie_comuna_m2_2021\": 11000000, \"Superficie_AAVV_2018\": 786372.48, \"Superficie_AAVVm2_por_habitante\": 29.3313122, \"Tasa_Areas_Verdes\": 29.33131219694144, \"Tama\\u00f1o_Punto\": 115.47900006111064, \"Color\": \"Otras Comunas\"}, {\"Comuna\": \"COLINA\", \"Total_personas_2021\": 185599, \"Ninos_0_15_2021\": 47279, \"Superficie_comuna_m2_2021\": 971200000, \"Superficie_AAVV_2018\": 1115239.62, \"Superficie_AAVVm2_por_habitante\": 23.58847734, \"Tasa_Areas_Verdes\": 23.5884773366611, \"Tama\\u00f1o_Punto\": 88.83030211311187, \"Color\": \"Otras Comunas\"}, {\"Comuna\": \"CONCHALI\", \"Total_personas_2021\": 139394, \"Ninos_0_15_2021\": 24695, \"Superficie_comuna_m2_2021\": 10700000, \"Superficie_AAVV_2018\": 417852.0, \"Superficie_AAVVm2_por_habitante\": 16.92051022, \"Tasa_Areas_Verdes\": 16.92051022474185, \"Tama\\u00f1o_Punto\": 57.88867732049999, \"Color\": \"Otras Comunas\"}, {\"Comuna\": \"EL BOSQUE\", \"Total_personas_2021\": 171789, \"Ninos_0_15_2021\": 33279, \"Superficie_comuna_m2_2021\": 14200000, \"Superficie_AAVV_2018\": 329261.04, \"Superficie_AAVVm2_por_habitante\": 9.89395835, \"Tasa_Areas_Verdes\": 9.893958352113945, \"Tama\\u00f1o_Punto\": 50.0, \"Color\": \"Otras Comunas\"}, {\"Comuna\": \"EL MONTE\", \"Total_personas_2021\": 40620, \"Ninos_0_15_2021\": 8778, \"Superficie_comuna_m2_2021\": 118000000, \"Superficie_AAVV_2018\": 108909.92, \"Superficie_AAVVm2_por_habitante\": 12.40714514, \"Tasa_Areas_Verdes\": 12.407145135566187, \"Tama\\u00f1o_Punto\": 50.0, \"Color\": \"Otras Comunas\"}, {\"Comuna\": \"ESTACION CENTRAL\", \"Total_personas_2021\": 214470, \"Ninos_0_15_2021\": 34211, \"Superficie_comuna_m2_2021\": 15000000, \"Superficie_AAVV_2018\": 533763.86, \"Superficie_AAVVm2_por_habitante\": 15.60211219, \"Tasa_Areas_Verdes\": 15.60211218613896, \"Tama\\u00f1o_Punto\": 51.77086408701143, \"Color\": \"Otras Comunas\"}, {\"Comuna\": \"HUECHURABA\", \"Total_personas_2021\": 114453, \"Ninos_0_15_2021\": 25584, \"Superficie_comuna_m2_2021\": 44800000, \"Superficie_AAVV_2018\": 1061523.43, \"Superficie_AAVVm2_por_habitante\": 41.49169129, \"Tasa_Areas_Verdes\": 41.49169129143214, \"Tama\\u00f1o_Punto\": 171.90727587025043, \"Color\": \"Otras Comunas\"}, {\"Comuna\": \"INDEPENDENCIA\", \"Total_personas_2021\": 147655, \"Ninos_0_15_2021\": 23527, \"Superficie_comuna_m2_2021\": 7000000, \"Superficie_AAVV_2018\": 155440.97, \"Superficie_AAVVm2_por_habitante\": 6.60691843, \"Tasa_Areas_Verdes\": 6.6069184341395, \"Tama\\u00f1o_Punto\": 50.0, \"Color\": \"Otras Comunas\"}, {\"Comuna\": \"ISLA DE MAIPO\", \"Total_personas_2021\": 40803, \"Ninos_0_15_2021\": 8637, \"Superficie_comuna_m2_2021\": 189000000, \"Superficie_AAVV_2018\": 72272.67, \"Superficie_AAVVm2_por_habitante\": 8.36779785, \"Tasa_Areas_Verdes\": 8.36779784647447, \"Tama\\u00f1o_Punto\": 50.0, \"Color\": \"Otras Comunas\"}, {\"Comuna\": \"LA CISTERNA\", \"Total_personas_2021\": 101126, \"Ninos_0_15_2021\": 17063, \"Superficie_comuna_m2_2021\": 10000000, \"Superficie_AAVV_2018\": 160366.5, \"Superficie_AAVVm2_por_habitante\": 9.39849382, \"Tasa_Areas_Verdes\": 9.398493817031003, \"Tama\\u00f1o_Punto\": 50.0, \"Color\": \"Otras Comunas\"}, {\"Comuna\": \"LA FLORIDA\", \"Total_personas_2021\": 405185, \"Ninos_0_15_2021\": 70660, \"Superficie_comuna_m2_2021\": 70200000, \"Superficie_AAVV_2018\": 1375949.93, \"Superficie_AAVVm2_por_habitante\": 19.47282663, \"Tasa_Areas_Verdes\": 19.472826634588166, \"Tama\\u00f1o_Punto\": 69.73228953093275, \"Color\": \"Otras Comunas\"}, {\"Comuna\": \"LA GRANJA\", \"Total_personas_2021\": 122028, \"Ninos_0_15_2021\": 22486, \"Superficie_comuna_m2_2021\": 10000000, \"Superficie_AAVV_2018\": 848111.12, \"Superficie_AAVVm2_por_habitante\": 37.7172961, \"Tasa_Areas_Verdes\": 37.71729609534822, \"Tama\\u00f1o_Punto\": 154.39280436550857, \"Color\": \"Otras Comunas\"}, {\"Comuna\": \"LA PINTANA\", \"Total_personas_2021\": 189454, \"Ninos_0_15_2021\": 42430, \"Superficie_comuna_m2_2021\": 30600000, \"Superficie_AAVV_2018\": 611122.67, \"Superficie_AAVVm2_por_habitante\": 14.40307966, \"Tasa_Areas_Verdes\": 14.403079660617488, \"Tama\\u00f1o_Punto\": 50.0, \"Color\": \"Otras Comunas\"}, {\"Comuna\": \"LA REINA\", \"Total_personas_2021\": 100459, \"Ninos_0_15_2021\": 17356, \"Superficie_comuna_m2_2021\": 23000000, \"Superficie_AAVV_2018\": 1296980.73, \"Superficie_AAVVm2_por_habitante\": 74.72809, \"Tasa_Areas_Verdes\": 74.72808999769532, \"Tama\\u00f1o_Punto\": 326.13541781602606, \"Color\": \"Otras Comunas\"}, {\"Comuna\": \"LAMPA\", \"Total_personas_2021\": 131436, \"Ninos_0_15_2021\": 33065, \"Superficie_comuna_m2_2021\": 452000000, \"Superficie_AAVV_2018\": 555319.97, \"Superficie_AAVVm2_por_habitante\": 16.79479722, \"Tasa_Areas_Verdes\": 16.794797217601694, \"Tama\\u00f1o_Punto\": 57.305326408116436, \"Color\": \"Otras Comunas\"}, {\"Comuna\": \"LAS CONDES\", \"Total_personas_2021\": 335296, \"Ninos_0_15_2021\": 49356, \"Superficie_comuna_m2_2021\": 99000000, \"Superficie_AAVV_2018\": 1432747.4, \"Superficie_AAVVm2_por_habitante\": 29.02883945, \"Tasa_Areas_Verdes\": 29.028839452143608, \"Tama\\u00f1o_Punto\": 114.07542412523111, \"Color\": \"Otras Comunas\"}, {\"Comuna\": \"LO BARNECHEA\", \"Total_personas_2021\": 126816, \"Ninos_0_15_2021\": 29288, \"Superficie_comuna_m2_2021\": 1024000000, \"Superficie_AAVV_2018\": 1567804.34, \"Superficie_AAVVm2_por_habitante\": 53.53060434, \"Tasa_Areas_Verdes\": 53.530604343075666, \"Tama\\u00f1o_Punto\": 227.7719081191059, \"Color\": \"Otras Comunas\"}, {\"Comuna\": \"LO ESPEJO\", \"Total_personas_2021\": 103381, \"Ninos_0_15_2021\": 19425, \"Superficie_comuna_m2_2021\": 7000000, \"Superficie_AAVV_2018\": 430503.44, \"Superficie_AAVVm2_por_habitante\": 22.16233925, \"Tasa_Areas_Verdes\": 22.162339253539255, \"Tama\\u00f1o_Punto\": 82.21253859842204, \"Color\": \"Otras Comunas\"}, {\"Comuna\": \"LO PRADO\", \"Total_personas_2021\": 104405, \"Ninos_0_15_2021\": 18007, \"Superficie_comuna_m2_2021\": 7000000, \"Superficie_AAVV_2018\": 306691.98, \"Superficie_AAVVm2_por_habitante\": 17.03181985, \"Tasa_Areas_Verdes\": 17.03181984783695, \"Tama\\u00f1o_Punto\": 58.40519165475025, \"Color\": \"Otras Comunas\"}, {\"Comuna\": \"MACUL\", \"Total_personas_2021\": 136278, \"Ninos_0_15_2021\": 21665, \"Superficie_comuna_m2_2021\": 12900000, \"Superficie_AAVV_2018\": 480763.06, \"Superficie_AAVVm2_por_habitante\": 22.19077129, \"Tasa_Areas_Verdes\": 22.19077129009924, \"Tama\\u00f1o_Punto\": 82.34447287352612, \"Color\": \"Otras Comunas\"}, {\"Comuna\": \"MAIPU\", \"Total_personas_2021\": 584053, \"Ninos_0_15_2021\": 108454, \"Superficie_comuna_m2_2021\": 135500000, \"Superficie_AAVV_2018\": 2847701.93, \"Superficie_AAVVm2_por_habitante\": 26.25723284, \"Tasa_Areas_Verdes\": 26.257232836041087, \"Tama\\u00f1o_Punto\": 101.21423111861459, \"Color\": \"MAIPU\"}, {\"Comuna\": \"NUNOA\", \"Total_personas_2021\": 255823, \"Ninos_0_15_2021\": 35833, \"Superficie_comuna_m2_2021\": 16900000, \"Superficie_AAVV_2018\": 508452.16, \"Superficie_AAVVm2_por_habitante\": 14.1894946, \"Tasa_Areas_Verdes\": 14.189494599949766, \"Tama\\u00f1o_Punto\": 50.0, \"Color\": \"Otras Comunas\"}, {\"Comuna\": \"PADRE HURTADO\", \"Total_personas_2021\": 76219, \"Ninos_0_15_2021\": 16342, \"Superficie_comuna_m2_2021\": 80800000, \"Superficie_AAVV_2018\": 393787.75, \"Superficie_AAVVm2_por_habitante\": 24.09666809, \"Tasa_Areas_Verdes\": 24.09666809448048, \"Tama\\u00f1o_Punto\": 91.18847927379592, \"Color\": \"Otras Comunas\"}, {\"Comuna\": \"PAINE\", \"Total_personas_2021\": 84379, \"Ninos_0_15_2021\": 17763, \"Superficie_comuna_m2_2021\": 820000000, \"Superficie_AAVV_2018\": 173383.58, \"Superficie_AAVVm2_por_habitante\": 9.76094016, \"Tasa_Areas_Verdes\": 9.760940156505095, \"Tama\\u00f1o_Punto\": 50.0, \"Color\": \"Otras Comunas\"}, {\"Comuna\": \"PEDRO AGUIRRE CERDA\", \"Total_personas_2021\": 107409, \"Ninos_0_15_2021\": 18249, \"Superficie_comuna_m2_2021\": 10000000, \"Superficie_AAVV_2018\": 530088.27, \"Superficie_AAVVm2_por_habitante\": 29.04752425, \"Tasa_Areas_Verdes\": 29.047524247903997, \"Tama\\u00f1o_Punto\": 114.16212790316534, \"Color\": \"Otras Comunas\"}, {\"Comuna\": \"PENAFLOR\", \"Total_personas_2021\": 102667, \"Ninos_0_15_2021\": 21714, \"Superficie_comuna_m2_2021\": 69000000, \"Superficie_AAVV_2018\": 393977.81, \"Superficie_AAVVm2_por_habitante\": 18.14395367, \"Tasa_Areas_Verdes\": 18.143953670443032, \"Tama\\u00f1o_Punto\": 63.56586909671591, \"Color\": \"Otras Comunas\"}, {\"Comuna\": \"PENALOLEN\", \"Total_personas_2021\": 269296, \"Ninos_0_15_2021\": 52650, \"Superficie_comuna_m2_2021\": 54000000, \"Superficie_AAVV_2018\": 1367424.45, \"Superficie_AAVVm2_por_habitante\": 25.97197436, \"Tasa_Areas_Verdes\": 25.971974358974357, \"Tama\\u00f1o_Punto\": 99.8905352127765, \"Color\": \"Otras Comunas\"}, {\"Comuna\": \"PIRQUE\", \"Total_personas_2021\": 31134, \"Ninos_0_15_2021\": 6232, \"Superficie_comuna_m2_2021\": 445300000, \"Superficie_AAVV_2018\": 27703.81, \"Superficie_AAVVm2_por_habitante\": 4.44541239, \"Tasa_Areas_Verdes\": 4.445412387676509, \"Tama\\u00f1o_Punto\": 50.0, \"Color\": \"Otras Comunas\"}, {\"Comuna\": \"PROVIDENCIA\", \"Total_personas_2021\": 160043, \"Ninos_0_15_2021\": 18905, \"Superficie_comuna_m2_2021\": 14300000, \"Superficie_AAVV_2018\": 2121068.62, \"Superficie_AAVVm2_por_habitante\": 112.1961714, \"Tasa_Areas_Verdes\": 112.19617138323196, \"Tama\\u00f1o_Punto\": 500.0, \"Color\": \"Otras Comunas\"}, {\"Comuna\": \"PUDAHUEL\", \"Total_personas_2021\": 256607, \"Ninos_0_15_2021\": 51888, \"Superficie_comuna_m2_2021\": 197000000, \"Superficie_AAVV_2018\": 1048199.86, \"Superficie_AAVVm2_por_habitante\": 20.20119989, \"Tasa_Areas_Verdes\": 20.201199892075238, \"Tama\\u00f1o_Punto\": 73.1121880313095, \"Color\": \"Otras Comunas\"}, {\"Comuna\": \"PUENTE ALTO\", \"Total_personas_2021\": 655033, \"Ninos_0_15_2021\": 136134, \"Superficie_comuna_m2_2021\": 88000000, \"Superficie_AAVV_2018\": 2492680.23, \"Superficie_AAVVm2_por_habitante\": 18.31048988, \"Tasa_Areas_Verdes\": 18.310489884966284, \"Tama\\u00f1o_Punto\": 64.3386535117664, \"Color\": \"PUENTE ALTO\"}, {\"Comuna\": \"QUILICURA\", \"Total_personas_2021\": 261993, \"Ninos_0_15_2021\": 57497, \"Superficie_comuna_m2_2021\": 58000000, \"Superficie_AAVV_2018\": 844303.87, \"Superficie_AAVVm2_por_habitante\": 14.6843117, \"Tasa_Areas_Verdes\": 14.684311703219299, \"Tama\\u00f1o_Punto\": 50.0, \"Color\": \"Otras Comunas\"}, {\"Comuna\": \"QUINTA NORMAL\", \"Total_personas_2021\": 138904, \"Ninos_0_15_2021\": 23149, \"Superficie_comuna_m2_2021\": 13000000, \"Superficie_AAVV_2018\": 398697.29, \"Superficie_AAVVm2_por_habitante\": 17.22308912, \"Tasa_Areas_Verdes\": 17.223089118320445, \"Tama\\u00f1o_Punto\": 59.292745822658176, \"Color\": \"Otras Comunas\"}, {\"Comuna\": \"RECOLETA\", \"Total_personas_2021\": 193605, \"Ninos_0_15_2021\": 33287, \"Superficie_comuna_m2_2021\": 16000000, \"Superficie_AAVV_2018\": 2927155.99, \"Superficie_AAVVm2_por_habitante\": 87.93691201, \"Tasa_Areas_Verdes\": 87.9369120076907, \"Tama\\u00f1o_Punto\": 387.4288236960729, \"Color\": \"Otras Comunas\"}, {\"Comuna\": \"RENCA\", \"Total_personas_2021\": 161959, \"Ninos_0_15_2021\": 33823, \"Superficie_comuna_m2_2021\": 24000000, \"Superficie_AAVV_2018\": 672938.41, \"Superficie_AAVVm2_por_habitante\": 19.8958818, \"Tasa_Areas_Verdes\": 19.895881796410727, \"Tama\\u00f1o_Punto\": 71.6954087041351, \"Color\": \"Otras Comunas\"}, {\"Comuna\": \"SAN BERNARDO\", \"Total_personas_2021\": 339043, \"Ninos_0_15_2021\": 73730, \"Superficie_comuna_m2_2021\": 155000000, \"Superficie_AAVV_2018\": 1202249.04, \"Superficie_AAVVm2_por_habitante\": 16.30610389, \"Tasa_Areas_Verdes\": 16.30610389258104, \"Tama\\u00f1o_Punto\": 55.03762393633703, \"Color\": \"Otras Comunas\"}, {\"Comuna\": \"SAN JOAQUIN\", \"Total_personas_2021\": 103871, \"Ninos_0_15_2021\": 17033, \"Superficie_comuna_m2_2021\": 9700000, \"Superficie_AAVV_2018\": 462653.8, \"Superficie_AAVVm2_por_habitante\": 27.16220278, \"Tasa_Areas_Verdes\": 27.162202782833322, \"Tama\\u00f1o_Punto\": 105.41359804293279, \"Color\": \"Otras Comunas\"}, {\"Comuna\": \"SAN JOSE DE MAIPO\", \"Total_personas_2021\": 18917, \"Ninos_0_15_2021\": 3590, \"Superficie_comuna_m2_2021\": 4994800000, \"Superficie_AAVV_2018\": 43960.58, \"Superficie_AAVVm2_por_habitante\": 12.24528691, \"Tasa_Areas_Verdes\": 12.245286908077995, \"Tama\\u00f1o_Punto\": 50.0, \"Color\": \"Otras Comunas\"}, {\"Comuna\": \"SAN MIGUEL\", \"Total_personas_2021\": 136835, \"Ninos_0_15_2021\": 21632, \"Superficie_comuna_m2_2021\": 10000000, \"Superficie_AAVV_2018\": 212503.55, \"Superficie_AAVVm2_por_habitante\": 9.82357387, \"Tasa_Areas_Verdes\": 9.82357387204142, \"Tama\\u00f1o_Punto\": 50.0, \"Color\": \"Otras Comunas\"}, {\"Comuna\": \"SAN RAMON\", \"Total_personas_2021\": 86017, \"Ninos_0_15_2021\": 15714, \"Superficie_comuna_m2_2021\": 7000000, \"Superficie_AAVV_2018\": 382813.02, \"Superficie_AAVVm2_por_habitante\": 24.36127148, \"Tasa_Areas_Verdes\": 24.36127147766323, \"Tama\\u00f1o_Punto\": 92.41632855137577, \"Color\": \"Otras Comunas\"}, {\"Comuna\": \"SANTIAGO\", \"Total_personas_2021\": 517280, \"Ninos_0_15_2021\": 58856, \"Superficie_comuna_m2_2021\": 22000000, \"Superficie_AAVV_2018\": 1868007.66, \"Superficie_AAVVm2_por_habitante\": 31.73861051, \"Tasa_Areas_Verdes\": 31.738610507000136, \"Tama\\u00f1o_Punto\": 126.64967919367245, \"Color\": \"Otras Comunas\"}, {\"Comuna\": \"TALAGANTE\", \"Total_personas_2021\": 82900, \"Ninos_0_15_2021\": 17199, \"Superficie_comuna_m2_2021\": 126000000, \"Superficie_AAVV_2018\": 409053.02, \"Superficie_AAVVm2_por_habitante\": 23.78353509, \"Tasa_Areas_Verdes\": 23.783535089249376, \"Tama\\u00f1o_Punto\": 89.7354361205499, \"Color\": \"Otras Comunas\"}, {\"Comuna\": \"TILTIL\", \"Total_personas_2021\": 21783, \"Ninos_0_15_2021\": 4473, \"Superficie_comuna_m2_2021\": 653000000, \"Superficie_AAVV_2018\": 78790.45, \"Superficie_AAVVm2_por_habitante\": 17.61467695, \"Tasa_Areas_Verdes\": 17.614676950592443, \"Tama\\u00f1o_Punto\": 61.109845933703106, \"Color\": \"Otras Comunas\"}, {\"Comuna\": \"VITACURA\", \"Total_personas_2021\": 97695, \"Ninos_0_15_2021\": 17089, \"Superficie_comuna_m2_2021\": 28300000, \"Superficie_AAVV_2018\": 1592903.19, \"Superficie_AAVVm2_por_habitante\": 93.21219439, \"Tasa_Areas_Verdes\": 93.21219439405465, \"Tama\\u00f1o_Punto\": 411.90791987850236, \"Color\": \"Otras Comunas\"}]}}, {\"mode\": \"vega-lite\"});\n",
              "</script>"
            ],
            "text/plain": [
              "alt.Chart(...)"
            ]
          },
          "metadata": {},
          "execution_count": 21
        }
      ]
    }
  ]
}